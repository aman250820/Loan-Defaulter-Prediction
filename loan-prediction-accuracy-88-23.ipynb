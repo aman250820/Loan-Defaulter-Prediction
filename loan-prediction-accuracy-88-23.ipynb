{
 "cells": [
  {
   "cell_type": "code",
   "execution_count": 1,
   "id": "d1fe4cbb",
   "metadata": {
    "_cell_guid": "b1076dfc-b9ad-4769-8c92-a6c4dae69d19",
    "_uuid": "8f2839f25d086af736a60e9eeb907d3b93b6e0e5",
    "execution": {
     "iopub.execute_input": "2022-08-19T08:46:27.673541Z",
     "iopub.status.busy": "2022-08-19T08:46:27.672871Z",
     "iopub.status.idle": "2022-08-19T08:46:27.685060Z",
     "shell.execute_reply": "2022-08-19T08:46:27.685749Z",
     "shell.execute_reply.started": "2022-08-19T08:44:10.856776Z"
    },
    "papermill": {
     "duration": 0.049408,
     "end_time": "2022-08-19T08:46:27.686185",
     "exception": false,
     "start_time": "2022-08-19T08:46:27.636777",
     "status": "completed"
    },
    "tags": []
   },
   "outputs": [
    {
     "name": "stdout",
     "output_type": "stream",
     "text": [
      "/kaggle/input/loan-prediction-based-on-customer-behavior/Test Data.csv\n",
      "/kaggle/input/loan-prediction-based-on-customer-behavior/Training Data.csv\n",
      "/kaggle/input/loan-prediction-based-on-customer-behavior/Sample Prediction Dataset.csv\n"
     ]
    }
   ],
   "source": [
    "\n",
    "\n",
    "import numpy as np # linear algebra\n",
    "import pandas as pd # data processing, CSV file I/O (e.g. pd.read_csv)\n",
    "\n",
    "\n",
    "import os\n",
    "for dirname, _, filenames in os.walk('/kaggle/input'):\n",
    "    for filename in filenames:\n",
    "        print(os.path.join(dirname, filename))\n",
    "\n"
   ]
  },
  {
   "cell_type": "code",
   "execution_count": 2,
   "id": "90c7d30b",
   "metadata": {
    "execution": {
     "iopub.execute_input": "2022-08-19T08:46:27.738003Z",
     "iopub.status.busy": "2022-08-19T08:46:27.737294Z",
     "iopub.status.idle": "2022-08-19T08:46:30.421522Z",
     "shell.execute_reply": "2022-08-19T08:46:30.422102Z",
     "shell.execute_reply.started": "2022-08-19T08:44:10.893689Z"
    },
    "papermill": {
     "duration": 2.711093,
     "end_time": "2022-08-19T08:46:30.422295",
     "exception": false,
     "start_time": "2022-08-19T08:46:27.711202",
     "status": "completed"
    },
    "tags": []
   },
   "outputs": [],
   "source": [
    "import numpy as np\n",
    "import pandas as pd \n",
    "import matplotlib.pyplot as plt\n",
    "import plotly.express as px\n",
    "import seaborn as sns\n",
    "%matplotlib inline\n",
    "from sklearn.preprocessing import LabelEncoder\n",
    "from sklearn.model_selection import train_test_split\n",
    "from sklearn.linear_model import LinearRegression\n",
    "from sklearn.ensemble import RandomForestRegressor\n",
    "import sklearn.metrics as metrics\n",
    "import os"
   ]
  },
  {
   "cell_type": "markdown",
   "id": "86c0d29e",
   "metadata": {
    "papermill": {
     "duration": 0.023206,
     "end_time": "2022-08-19T08:46:30.469190",
     "exception": false,
     "start_time": "2022-08-19T08:46:30.445984",
     "status": "completed"
    },
    "tags": []
   },
   "source": [
    "### Reading Data"
   ]
  },
  {
   "cell_type": "code",
   "execution_count": 3,
   "id": "4343f841",
   "metadata": {
    "execution": {
     "iopub.execute_input": "2022-08-19T08:46:30.519362Z",
     "iopub.status.busy": "2022-08-19T08:46:30.518595Z",
     "iopub.status.idle": "2022-08-19T08:46:31.193197Z",
     "shell.execute_reply": "2022-08-19T08:46:31.193712Z",
     "shell.execute_reply.started": "2022-08-19T08:44:13.441995Z"
    },
    "papermill": {
     "duration": 0.701287,
     "end_time": "2022-08-19T08:46:31.193913",
     "exception": false,
     "start_time": "2022-08-19T08:46:30.492626",
     "status": "completed"
    },
    "tags": []
   },
   "outputs": [
    {
     "data": {
      "text/html": [
       "<div>\n",
       "<style scoped>\n",
       "    .dataframe tbody tr th:only-of-type {\n",
       "        vertical-align: middle;\n",
       "    }\n",
       "\n",
       "    .dataframe tbody tr th {\n",
       "        vertical-align: top;\n",
       "    }\n",
       "\n",
       "    .dataframe thead th {\n",
       "        text-align: right;\n",
       "    }\n",
       "</style>\n",
       "<table border=\"1\" class=\"dataframe\">\n",
       "  <thead>\n",
       "    <tr style=\"text-align: right;\">\n",
       "      <th></th>\n",
       "      <th>Id</th>\n",
       "      <th>Income</th>\n",
       "      <th>Age</th>\n",
       "      <th>Experience</th>\n",
       "      <th>Married/Single</th>\n",
       "      <th>House_Ownership</th>\n",
       "      <th>Car_Ownership</th>\n",
       "      <th>Profession</th>\n",
       "      <th>CITY</th>\n",
       "      <th>STATE</th>\n",
       "      <th>CURRENT_JOB_YRS</th>\n",
       "      <th>CURRENT_HOUSE_YRS</th>\n",
       "      <th>Risk_Flag</th>\n",
       "    </tr>\n",
       "  </thead>\n",
       "  <tbody>\n",
       "    <tr>\n",
       "      <th>0</th>\n",
       "      <td>1</td>\n",
       "      <td>1303834</td>\n",
       "      <td>23</td>\n",
       "      <td>3</td>\n",
       "      <td>single</td>\n",
       "      <td>rented</td>\n",
       "      <td>no</td>\n",
       "      <td>Mechanical_engineer</td>\n",
       "      <td>Rewa</td>\n",
       "      <td>Madhya_Pradesh</td>\n",
       "      <td>3</td>\n",
       "      <td>13</td>\n",
       "      <td>0</td>\n",
       "    </tr>\n",
       "    <tr>\n",
       "      <th>1</th>\n",
       "      <td>2</td>\n",
       "      <td>7574516</td>\n",
       "      <td>40</td>\n",
       "      <td>10</td>\n",
       "      <td>single</td>\n",
       "      <td>rented</td>\n",
       "      <td>no</td>\n",
       "      <td>Software_Developer</td>\n",
       "      <td>Parbhani</td>\n",
       "      <td>Maharashtra</td>\n",
       "      <td>9</td>\n",
       "      <td>13</td>\n",
       "      <td>0</td>\n",
       "    </tr>\n",
       "    <tr>\n",
       "      <th>2</th>\n",
       "      <td>3</td>\n",
       "      <td>3991815</td>\n",
       "      <td>66</td>\n",
       "      <td>4</td>\n",
       "      <td>married</td>\n",
       "      <td>rented</td>\n",
       "      <td>no</td>\n",
       "      <td>Technical_writer</td>\n",
       "      <td>Alappuzha</td>\n",
       "      <td>Kerala</td>\n",
       "      <td>4</td>\n",
       "      <td>10</td>\n",
       "      <td>0</td>\n",
       "    </tr>\n",
       "    <tr>\n",
       "      <th>3</th>\n",
       "      <td>4</td>\n",
       "      <td>6256451</td>\n",
       "      <td>41</td>\n",
       "      <td>2</td>\n",
       "      <td>single</td>\n",
       "      <td>rented</td>\n",
       "      <td>yes</td>\n",
       "      <td>Software_Developer</td>\n",
       "      <td>Bhubaneswar</td>\n",
       "      <td>Odisha</td>\n",
       "      <td>2</td>\n",
       "      <td>12</td>\n",
       "      <td>1</td>\n",
       "    </tr>\n",
       "    <tr>\n",
       "      <th>4</th>\n",
       "      <td>5</td>\n",
       "      <td>5768871</td>\n",
       "      <td>47</td>\n",
       "      <td>11</td>\n",
       "      <td>single</td>\n",
       "      <td>rented</td>\n",
       "      <td>no</td>\n",
       "      <td>Civil_servant</td>\n",
       "      <td>Tiruchirappalli[10]</td>\n",
       "      <td>Tamil_Nadu</td>\n",
       "      <td>3</td>\n",
       "      <td>14</td>\n",
       "      <td>1</td>\n",
       "    </tr>\n",
       "  </tbody>\n",
       "</table>\n",
       "</div>"
      ],
      "text/plain": [
       "   Id   Income  Age  Experience Married/Single House_Ownership Car_Ownership  \\\n",
       "0   1  1303834   23           3         single          rented            no   \n",
       "1   2  7574516   40          10         single          rented            no   \n",
       "2   3  3991815   66           4        married          rented            no   \n",
       "3   4  6256451   41           2         single          rented           yes   \n",
       "4   5  5768871   47          11         single          rented            no   \n",
       "\n",
       "            Profession                 CITY           STATE  CURRENT_JOB_YRS  \\\n",
       "0  Mechanical_engineer                 Rewa  Madhya_Pradesh                3   \n",
       "1   Software_Developer             Parbhani     Maharashtra                9   \n",
       "2     Technical_writer            Alappuzha          Kerala                4   \n",
       "3   Software_Developer          Bhubaneswar          Odisha                2   \n",
       "4        Civil_servant  Tiruchirappalli[10]      Tamil_Nadu                3   \n",
       "\n",
       "   CURRENT_HOUSE_YRS  Risk_Flag  \n",
       "0                 13          0  \n",
       "1                 13          0  \n",
       "2                 10          0  \n",
       "3                 12          1  \n",
       "4                 14          1  "
      ]
     },
     "execution_count": 3,
     "metadata": {},
     "output_type": "execute_result"
    }
   ],
   "source": [
    "df=pd.read_csv('/kaggle/input/loan-prediction-based-on-customer-behavior/Training Data.csv')\n",
    "df.head()"
   ]
  },
  {
   "cell_type": "markdown",
   "id": "05f4ae65",
   "metadata": {
    "papermill": {
     "duration": 0.023664,
     "end_time": "2022-08-19T08:46:31.242942",
     "exception": false,
     "start_time": "2022-08-19T08:46:31.219278",
     "status": "completed"
    },
    "tags": []
   },
   "source": [
    "### Preprocessing The Data"
   ]
  },
  {
   "cell_type": "code",
   "execution_count": 4,
   "id": "1cc69d87",
   "metadata": {
    "execution": {
     "iopub.execute_input": "2022-08-19T08:46:31.294355Z",
     "iopub.status.busy": "2022-08-19T08:46:31.293603Z",
     "iopub.status.idle": "2022-08-19T08:46:31.338526Z",
     "shell.execute_reply": "2022-08-19T08:46:31.339092Z",
     "shell.execute_reply.started": "2022-08-19T08:44:13.986677Z"
    },
    "papermill": {
     "duration": 0.072147,
     "end_time": "2022-08-19T08:46:31.339281",
     "exception": false,
     "start_time": "2022-08-19T08:46:31.267134",
     "status": "completed"
    },
    "tags": []
   },
   "outputs": [
    {
     "data": {
      "text/html": [
       "<div>\n",
       "<style scoped>\n",
       "    .dataframe tbody tr th:only-of-type {\n",
       "        vertical-align: middle;\n",
       "    }\n",
       "\n",
       "    .dataframe tbody tr th {\n",
       "        vertical-align: top;\n",
       "    }\n",
       "\n",
       "    .dataframe thead th {\n",
       "        text-align: right;\n",
       "    }\n",
       "</style>\n",
       "<table border=\"1\" class=\"dataframe\">\n",
       "  <thead>\n",
       "    <tr style=\"text-align: right;\">\n",
       "      <th></th>\n",
       "      <th>Income</th>\n",
       "      <th>Age</th>\n",
       "      <th>Experience</th>\n",
       "      <th>Married/Single</th>\n",
       "      <th>House_Ownership</th>\n",
       "      <th>Car_Ownership</th>\n",
       "      <th>Profession</th>\n",
       "      <th>CITY</th>\n",
       "      <th>STATE</th>\n",
       "      <th>CURRENT_JOB_YRS</th>\n",
       "      <th>CURRENT_HOUSE_YRS</th>\n",
       "      <th>Risk_Flag</th>\n",
       "    </tr>\n",
       "  </thead>\n",
       "  <tbody>\n",
       "    <tr>\n",
       "      <th>0</th>\n",
       "      <td>1303834</td>\n",
       "      <td>23</td>\n",
       "      <td>3</td>\n",
       "      <td>single</td>\n",
       "      <td>rented</td>\n",
       "      <td>no</td>\n",
       "      <td>Mechanical_engineer</td>\n",
       "      <td>Rewa</td>\n",
       "      <td>Madhya_Pradesh</td>\n",
       "      <td>3</td>\n",
       "      <td>13</td>\n",
       "      <td>0</td>\n",
       "    </tr>\n",
       "    <tr>\n",
       "      <th>1</th>\n",
       "      <td>7574516</td>\n",
       "      <td>40</td>\n",
       "      <td>10</td>\n",
       "      <td>single</td>\n",
       "      <td>rented</td>\n",
       "      <td>no</td>\n",
       "      <td>Software_Developer</td>\n",
       "      <td>Parbhani</td>\n",
       "      <td>Maharashtra</td>\n",
       "      <td>9</td>\n",
       "      <td>13</td>\n",
       "      <td>0</td>\n",
       "    </tr>\n",
       "    <tr>\n",
       "      <th>2</th>\n",
       "      <td>3991815</td>\n",
       "      <td>66</td>\n",
       "      <td>4</td>\n",
       "      <td>married</td>\n",
       "      <td>rented</td>\n",
       "      <td>no</td>\n",
       "      <td>Technical_writer</td>\n",
       "      <td>Alappuzha</td>\n",
       "      <td>Kerala</td>\n",
       "      <td>4</td>\n",
       "      <td>10</td>\n",
       "      <td>0</td>\n",
       "    </tr>\n",
       "    <tr>\n",
       "      <th>3</th>\n",
       "      <td>6256451</td>\n",
       "      <td>41</td>\n",
       "      <td>2</td>\n",
       "      <td>single</td>\n",
       "      <td>rented</td>\n",
       "      <td>yes</td>\n",
       "      <td>Software_Developer</td>\n",
       "      <td>Bhubaneswar</td>\n",
       "      <td>Odisha</td>\n",
       "      <td>2</td>\n",
       "      <td>12</td>\n",
       "      <td>1</td>\n",
       "    </tr>\n",
       "    <tr>\n",
       "      <th>4</th>\n",
       "      <td>5768871</td>\n",
       "      <td>47</td>\n",
       "      <td>11</td>\n",
       "      <td>single</td>\n",
       "      <td>rented</td>\n",
       "      <td>no</td>\n",
       "      <td>Civil_servant</td>\n",
       "      <td>Tiruchirappalli[10]</td>\n",
       "      <td>Tamil_Nadu</td>\n",
       "      <td>3</td>\n",
       "      <td>14</td>\n",
       "      <td>1</td>\n",
       "    </tr>\n",
       "  </tbody>\n",
       "</table>\n",
       "</div>"
      ],
      "text/plain": [
       "    Income  Age  Experience Married/Single House_Ownership Car_Ownership  \\\n",
       "0  1303834   23           3         single          rented            no   \n",
       "1  7574516   40          10         single          rented            no   \n",
       "2  3991815   66           4        married          rented            no   \n",
       "3  6256451   41           2         single          rented           yes   \n",
       "4  5768871   47          11         single          rented            no   \n",
       "\n",
       "            Profession                 CITY           STATE  CURRENT_JOB_YRS  \\\n",
       "0  Mechanical_engineer                 Rewa  Madhya_Pradesh                3   \n",
       "1   Software_Developer             Parbhani     Maharashtra                9   \n",
       "2     Technical_writer            Alappuzha          Kerala                4   \n",
       "3   Software_Developer          Bhubaneswar          Odisha                2   \n",
       "4        Civil_servant  Tiruchirappalli[10]      Tamil_Nadu                3   \n",
       "\n",
       "   CURRENT_HOUSE_YRS  Risk_Flag  \n",
       "0                 13          0  \n",
       "1                 13          0  \n",
       "2                 10          0  \n",
       "3                 12          1  \n",
       "4                 14          1  "
      ]
     },
     "execution_count": 4,
     "metadata": {},
     "output_type": "execute_result"
    }
   ],
   "source": [
    "df=df.drop('Id',axis=1)\n",
    "df.head()"
   ]
  },
  {
   "cell_type": "code",
   "execution_count": 5,
   "id": "802da120",
   "metadata": {
    "execution": {
     "iopub.execute_input": "2022-08-19T08:46:31.461677Z",
     "iopub.status.busy": "2022-08-19T08:46:31.460973Z",
     "iopub.status.idle": "2022-08-19T08:46:31.472137Z",
     "shell.execute_reply": "2022-08-19T08:46:31.472621Z",
     "shell.execute_reply.started": "2022-08-19T08:44:14.024395Z"
    },
    "papermill": {
     "duration": 0.10888,
     "end_time": "2022-08-19T08:46:31.472830",
     "exception": false,
     "start_time": "2022-08-19T08:46:31.363950",
     "status": "completed"
    },
    "tags": []
   },
   "outputs": [
    {
     "data": {
      "text/plain": [
       "Income               0\n",
       "Age                  0\n",
       "Experience           0\n",
       "Married/Single       0\n",
       "House_Ownership      0\n",
       "Car_Ownership        0\n",
       "Profession           0\n",
       "CITY                 0\n",
       "STATE                0\n",
       "CURRENT_JOB_YRS      0\n",
       "CURRENT_HOUSE_YRS    0\n",
       "Risk_Flag            0\n",
       "dtype: int64"
      ]
     },
     "execution_count": 5,
     "metadata": {},
     "output_type": "execute_result"
    }
   ],
   "source": [
    "df.isnull().sum()"
   ]
  },
  {
   "cell_type": "code",
   "execution_count": 6,
   "id": "02f44830",
   "metadata": {
    "execution": {
     "iopub.execute_input": "2022-08-19T08:46:31.525348Z",
     "iopub.status.busy": "2022-08-19T08:46:31.524653Z",
     "iopub.status.idle": "2022-08-19T08:46:31.619762Z",
     "shell.execute_reply": "2022-08-19T08:46:31.619102Z",
     "shell.execute_reply.started": "2022-08-19T08:44:14.095083Z"
    },
    "papermill": {
     "duration": 0.122476,
     "end_time": "2022-08-19T08:46:31.619941",
     "exception": false,
     "start_time": "2022-08-19T08:46:31.497465",
     "status": "completed"
    },
    "tags": []
   },
   "outputs": [
    {
     "name": "stdout",
     "output_type": "stream",
     "text": [
      "<class 'pandas.core.frame.DataFrame'>\n",
      "RangeIndex: 252000 entries, 0 to 251999\n",
      "Data columns (total 12 columns):\n",
      " #   Column             Non-Null Count   Dtype \n",
      "---  ------             --------------   ----- \n",
      " 0   Income             252000 non-null  int64 \n",
      " 1   Age                252000 non-null  int64 \n",
      " 2   Experience         252000 non-null  int64 \n",
      " 3   Married/Single     252000 non-null  object\n",
      " 4   House_Ownership    252000 non-null  object\n",
      " 5   Car_Ownership      252000 non-null  object\n",
      " 6   Profession         252000 non-null  object\n",
      " 7   CITY               252000 non-null  object\n",
      " 8   STATE              252000 non-null  object\n",
      " 9   CURRENT_JOB_YRS    252000 non-null  int64 \n",
      " 10  CURRENT_HOUSE_YRS  252000 non-null  int64 \n",
      " 11  Risk_Flag          252000 non-null  int64 \n",
      "dtypes: int64(6), object(6)\n",
      "memory usage: 23.1+ MB\n"
     ]
    }
   ],
   "source": [
    "df.info()"
   ]
  },
  {
   "cell_type": "code",
   "execution_count": 7,
   "id": "e515946b",
   "metadata": {
    "execution": {
     "iopub.execute_input": "2022-08-19T08:46:31.675367Z",
     "iopub.status.busy": "2022-08-19T08:46:31.674635Z",
     "iopub.status.idle": "2022-08-19T08:46:31.697924Z",
     "shell.execute_reply": "2022-08-19T08:46:31.698427Z",
     "shell.execute_reply.started": "2022-08-19T08:44:14.170384Z"
    },
    "papermill": {
     "duration": 0.05281,
     "end_time": "2022-08-19T08:46:31.698613",
     "exception": false,
     "start_time": "2022-08-19T08:46:31.645803",
     "status": "completed"
    },
    "tags": []
   },
   "outputs": [
    {
     "data": {
      "text/plain": [
       "Physician                     5957\n",
       "Statistician                  5806\n",
       "Web_designer                  5397\n",
       "Psychologist                  5390\n",
       "Computer_hardware_engineer    5372\n",
       "Drafter                       5359\n",
       "Magistrate                    5357\n",
       "Fashion_Designer              5304\n",
       "Air_traffic_controller        5281\n",
       "Comedian                      5259\n",
       "Industrial_Engineer           5250\n",
       "Mechanical_engineer           5217\n",
       "Chemical_engineer             5205\n",
       "Technical_writer              5195\n",
       "Hotel_Manager                 5178\n",
       "Financial_Analyst             5167\n",
       "Graphic_Designer              5166\n",
       "Flight_attendant              5128\n",
       "Biomedical_Engineer           5127\n",
       "Secretary                     5061\n",
       "Software_Developer            5053\n",
       "Petroleum_Engineer            5041\n",
       "Police_officer                5035\n",
       "Computer_operator             4990\n",
       "Politician                    4944\n",
       "Microbiologist                4881\n",
       "Technician                    4864\n",
       "Artist                        4861\n",
       "Lawyer                        4818\n",
       "Consultant                    4808\n",
       "Dentist                       4782\n",
       "Scientist                     4781\n",
       "Surgeon                       4772\n",
       "Aviator                       4758\n",
       "Technology_specialist         4737\n",
       "Design_Engineer               4729\n",
       "Surveyor                      4714\n",
       "Geologist                     4672\n",
       "Analyst                       4668\n",
       "Army_officer                  4661\n",
       "Architect                     4657\n",
       "Chef                          4635\n",
       "Librarian                     4628\n",
       "Civil_engineer                4616\n",
       "Designer                      4598\n",
       "Economist                     4573\n",
       "Firefighter                   4507\n",
       "Chartered_Accountant          4493\n",
       "Civil_servant                 4413\n",
       "Official                      4087\n",
       "Engineer                      4048\n",
       "Name: Profession, dtype: int64"
      ]
     },
     "execution_count": 7,
     "metadata": {},
     "output_type": "execute_result"
    }
   ],
   "source": [
    "df['Profession'].value_counts()"
   ]
  },
  {
   "cell_type": "code",
   "execution_count": 8,
   "id": "f7fbef12",
   "metadata": {
    "execution": {
     "iopub.execute_input": "2022-08-19T08:46:31.753228Z",
     "iopub.status.busy": "2022-08-19T08:46:31.752525Z",
     "iopub.status.idle": "2022-08-19T08:46:31.758909Z",
     "shell.execute_reply": "2022-08-19T08:46:31.759491Z",
     "shell.execute_reply.started": "2022-08-19T08:44:14.193243Z"
    },
    "papermill": {
     "duration": 0.035542,
     "end_time": "2022-08-19T08:46:31.759674",
     "exception": false,
     "start_time": "2022-08-19T08:46:31.724132",
     "status": "completed"
    },
    "tags": []
   },
   "outputs": [
    {
     "data": {
      "text/plain": [
       "0                   Rewa\n",
       "1               Parbhani\n",
       "2              Alappuzha\n",
       "3            Bhubaneswar\n",
       "4    Tiruchirappalli[10]\n",
       "Name: CITY, dtype: object"
      ]
     },
     "execution_count": 8,
     "metadata": {},
     "output_type": "execute_result"
    }
   ],
   "source": [
    "df['CITY'].head()"
   ]
  },
  {
   "cell_type": "code",
   "execution_count": 9,
   "id": "2fdb7013",
   "metadata": {
    "execution": {
     "iopub.execute_input": "2022-08-19T08:46:31.814499Z",
     "iopub.status.busy": "2022-08-19T08:46:31.813713Z",
     "iopub.status.idle": "2022-08-19T08:46:31.840433Z",
     "shell.execute_reply": "2022-08-19T08:46:31.841068Z",
     "shell.execute_reply.started": "2022-08-19T08:44:14.206793Z"
    },
    "papermill": {
     "duration": 0.055783,
     "end_time": "2022-08-19T08:46:31.841253",
     "exception": false,
     "start_time": "2022-08-19T08:46:31.785470",
     "status": "completed"
    },
    "tags": []
   },
   "outputs": [
    {
     "data": {
      "text/plain": [
       "array(['Madhya_Pradesh', 'Maharashtra', 'Kerala', 'Odisha', 'Tamil_Nadu',\n",
       "       'Gujarat', 'Rajasthan', 'Telangana', 'Bihar', 'Andhra_Pradesh',\n",
       "       'West_Bengal', 'Haryana', 'Puducherry', 'Karnataka',\n",
       "       'Uttar_Pradesh', 'Himachal_Pradesh', 'Punjab', 'Tripura',\n",
       "       'Uttarakhand', 'Jharkhand', 'Mizoram', 'Assam',\n",
       "       'Jammu_and_Kashmir', 'Delhi', 'Chhattisgarh', 'Chandigarh',\n",
       "       'Uttar_Pradesh[5]', 'Manipur', 'Sikkim'], dtype=object)"
      ]
     },
     "execution_count": 9,
     "metadata": {},
     "output_type": "execute_result"
    }
   ],
   "source": [
    "df['STATE'].unique()"
   ]
  },
  {
   "cell_type": "code",
   "execution_count": 10,
   "id": "f5d38768",
   "metadata": {
    "execution": {
     "iopub.execute_input": "2022-08-19T08:46:31.896511Z",
     "iopub.status.busy": "2022-08-19T08:46:31.895854Z",
     "iopub.status.idle": "2022-08-19T08:46:31.922612Z",
     "shell.execute_reply": "2022-08-19T08:46:31.923216Z",
     "shell.execute_reply.started": "2022-08-19T08:44:14.238354Z"
    },
    "papermill": {
     "duration": 0.056001,
     "end_time": "2022-08-19T08:46:31.923422",
     "exception": false,
     "start_time": "2022-08-19T08:46:31.867421",
     "status": "completed"
    },
    "tags": []
   },
   "outputs": [],
   "source": [
    "df=df.drop('CITY',axis=1)"
   ]
  },
  {
   "cell_type": "markdown",
   "id": "2f81dd04",
   "metadata": {
    "papermill": {
     "duration": 0.02617,
     "end_time": "2022-08-19T08:46:31.976134",
     "exception": false,
     "start_time": "2022-08-19T08:46:31.949964",
     "status": "completed"
    },
    "tags": []
   },
   "source": [
    "#### Encoding The Categorical data"
   ]
  },
  {
   "cell_type": "code",
   "execution_count": 11,
   "id": "18c32075",
   "metadata": {
    "execution": {
     "iopub.execute_input": "2022-08-19T08:46:32.032096Z",
     "iopub.status.busy": "2022-08-19T08:46:32.031273Z",
     "iopub.status.idle": "2022-08-19T08:46:32.316406Z",
     "shell.execute_reply": "2022-08-19T08:46:32.316922Z",
     "shell.execute_reply.started": "2022-08-19T08:44:14.257649Z"
    },
    "papermill": {
     "duration": 0.314791,
     "end_time": "2022-08-19T08:46:32.317118",
     "exception": false,
     "start_time": "2022-08-19T08:46:32.002327",
     "status": "completed"
    },
    "tags": []
   },
   "outputs": [],
   "source": [
    "en = LabelEncoder()\n",
    "catCols = ['Married/Single','House_Ownership','Car_Ownership','Profession','STATE']\n",
    "for cols in catCols:\n",
    "    df[cols] = en.fit_transform(df[cols])"
   ]
  },
  {
   "cell_type": "code",
   "execution_count": 12,
   "id": "463bdd97",
   "metadata": {
    "execution": {
     "iopub.execute_input": "2022-08-19T08:46:32.372322Z",
     "iopub.status.busy": "2022-08-19T08:46:32.371543Z",
     "iopub.status.idle": "2022-08-19T08:46:32.382581Z",
     "shell.execute_reply": "2022-08-19T08:46:32.383099Z",
     "shell.execute_reply.started": "2022-08-19T08:44:14.496826Z"
    },
    "papermill": {
     "duration": 0.040289,
     "end_time": "2022-08-19T08:46:32.383290",
     "exception": false,
     "start_time": "2022-08-19T08:46:32.343001",
     "status": "completed"
    },
    "tags": []
   },
   "outputs": [
    {
     "data": {
      "text/html": [
       "<div>\n",
       "<style scoped>\n",
       "    .dataframe tbody tr th:only-of-type {\n",
       "        vertical-align: middle;\n",
       "    }\n",
       "\n",
       "    .dataframe tbody tr th {\n",
       "        vertical-align: top;\n",
       "    }\n",
       "\n",
       "    .dataframe thead th {\n",
       "        text-align: right;\n",
       "    }\n",
       "</style>\n",
       "<table border=\"1\" class=\"dataframe\">\n",
       "  <thead>\n",
       "    <tr style=\"text-align: right;\">\n",
       "      <th></th>\n",
       "      <th>Income</th>\n",
       "      <th>Age</th>\n",
       "      <th>Experience</th>\n",
       "      <th>Married/Single</th>\n",
       "      <th>House_Ownership</th>\n",
       "      <th>Car_Ownership</th>\n",
       "      <th>Profession</th>\n",
       "      <th>STATE</th>\n",
       "      <th>CURRENT_JOB_YRS</th>\n",
       "      <th>CURRENT_HOUSE_YRS</th>\n",
       "      <th>Risk_Flag</th>\n",
       "    </tr>\n",
       "  </thead>\n",
       "  <tbody>\n",
       "    <tr>\n",
       "      <th>0</th>\n",
       "      <td>1303834</td>\n",
       "      <td>23</td>\n",
       "      <td>3</td>\n",
       "      <td>1</td>\n",
       "      <td>2</td>\n",
       "      <td>0</td>\n",
       "      <td>33</td>\n",
       "      <td>13</td>\n",
       "      <td>3</td>\n",
       "      <td>13</td>\n",
       "      <td>0</td>\n",
       "    </tr>\n",
       "    <tr>\n",
       "      <th>1</th>\n",
       "      <td>7574516</td>\n",
       "      <td>40</td>\n",
       "      <td>10</td>\n",
       "      <td>1</td>\n",
       "      <td>2</td>\n",
       "      <td>0</td>\n",
       "      <td>43</td>\n",
       "      <td>14</td>\n",
       "      <td>9</td>\n",
       "      <td>13</td>\n",
       "      <td>0</td>\n",
       "    </tr>\n",
       "    <tr>\n",
       "      <th>2</th>\n",
       "      <td>3991815</td>\n",
       "      <td>66</td>\n",
       "      <td>4</td>\n",
       "      <td>0</td>\n",
       "      <td>2</td>\n",
       "      <td>0</td>\n",
       "      <td>47</td>\n",
       "      <td>12</td>\n",
       "      <td>4</td>\n",
       "      <td>10</td>\n",
       "      <td>0</td>\n",
       "    </tr>\n",
       "    <tr>\n",
       "      <th>3</th>\n",
       "      <td>6256451</td>\n",
       "      <td>41</td>\n",
       "      <td>2</td>\n",
       "      <td>1</td>\n",
       "      <td>2</td>\n",
       "      <td>1</td>\n",
       "      <td>43</td>\n",
       "      <td>17</td>\n",
       "      <td>2</td>\n",
       "      <td>12</td>\n",
       "      <td>1</td>\n",
       "    </tr>\n",
       "    <tr>\n",
       "      <th>4</th>\n",
       "      <td>5768871</td>\n",
       "      <td>47</td>\n",
       "      <td>11</td>\n",
       "      <td>1</td>\n",
       "      <td>2</td>\n",
       "      <td>0</td>\n",
       "      <td>11</td>\n",
       "      <td>22</td>\n",
       "      <td>3</td>\n",
       "      <td>14</td>\n",
       "      <td>1</td>\n",
       "    </tr>\n",
       "  </tbody>\n",
       "</table>\n",
       "</div>"
      ],
      "text/plain": [
       "    Income  Age  Experience  Married/Single  House_Ownership  Car_Ownership  \\\n",
       "0  1303834   23           3               1                2              0   \n",
       "1  7574516   40          10               1                2              0   \n",
       "2  3991815   66           4               0                2              0   \n",
       "3  6256451   41           2               1                2              1   \n",
       "4  5768871   47          11               1                2              0   \n",
       "\n",
       "   Profession  STATE  CURRENT_JOB_YRS  CURRENT_HOUSE_YRS  Risk_Flag  \n",
       "0          33     13                3                 13          0  \n",
       "1          43     14                9                 13          0  \n",
       "2          47     12                4                 10          0  \n",
       "3          43     17                2                 12          1  \n",
       "4          11     22                3                 14          1  "
      ]
     },
     "execution_count": 12,
     "metadata": {},
     "output_type": "execute_result"
    }
   ],
   "source": [
    "df.head()"
   ]
  },
  {
   "cell_type": "code",
   "execution_count": 13,
   "id": "171ec248",
   "metadata": {
    "execution": {
     "iopub.execute_input": "2022-08-19T08:46:32.440005Z",
     "iopub.status.busy": "2022-08-19T08:46:32.439287Z",
     "iopub.status.idle": "2022-08-19T08:46:32.455762Z",
     "shell.execute_reply": "2022-08-19T08:46:32.455209Z",
     "shell.execute_reply.started": "2022-08-19T08:44:14.509093Z"
    },
    "papermill": {
     "duration": 0.046139,
     "end_time": "2022-08-19T08:46:32.455933",
     "exception": false,
     "start_time": "2022-08-19T08:46:32.409794",
     "status": "completed"
    },
    "tags": []
   },
   "outputs": [
    {
     "name": "stdout",
     "output_type": "stream",
     "text": [
      "<class 'pandas.core.frame.DataFrame'>\n",
      "RangeIndex: 252000 entries, 0 to 251999\n",
      "Data columns (total 11 columns):\n",
      " #   Column             Non-Null Count   Dtype\n",
      "---  ------             --------------   -----\n",
      " 0   Income             252000 non-null  int64\n",
      " 1   Age                252000 non-null  int64\n",
      " 2   Experience         252000 non-null  int64\n",
      " 3   Married/Single     252000 non-null  int64\n",
      " 4   House_Ownership    252000 non-null  int64\n",
      " 5   Car_Ownership      252000 non-null  int64\n",
      " 6   Profession         252000 non-null  int64\n",
      " 7   STATE              252000 non-null  int64\n",
      " 8   CURRENT_JOB_YRS    252000 non-null  int64\n",
      " 9   CURRENT_HOUSE_YRS  252000 non-null  int64\n",
      " 10  Risk_Flag          252000 non-null  int64\n",
      "dtypes: int64(11)\n",
      "memory usage: 21.1 MB\n"
     ]
    }
   ],
   "source": [
    "df.info()"
   ]
  },
  {
   "cell_type": "markdown",
   "id": "21f4c44b",
   "metadata": {
    "papermill": {
     "duration": 0.026583,
     "end_time": "2022-08-19T08:46:32.509574",
     "exception": false,
     "start_time": "2022-08-19T08:46:32.482991",
     "status": "completed"
    },
    "tags": []
   },
   "source": [
    "### Splitting The Data"
   ]
  },
  {
   "cell_type": "code",
   "execution_count": 14,
   "id": "8f04c04d",
   "metadata": {
    "execution": {
     "iopub.execute_input": "2022-08-19T08:46:32.570503Z",
     "iopub.status.busy": "2022-08-19T08:46:32.569098Z",
     "iopub.status.idle": "2022-08-19T08:46:32.599026Z",
     "shell.execute_reply": "2022-08-19T08:46:32.598430Z",
     "shell.execute_reply.started": "2022-08-19T08:44:14.529720Z"
    },
    "papermill": {
     "duration": 0.062674,
     "end_time": "2022-08-19T08:46:32.599196",
     "exception": false,
     "start_time": "2022-08-19T08:46:32.536522",
     "status": "completed"
    },
    "tags": []
   },
   "outputs": [],
   "source": [
    "Y = df[\"Risk_Flag\"]\n",
    "X = df.drop(\"Risk_Flag\",axis = 1)"
   ]
  },
  {
   "cell_type": "code",
   "execution_count": 15,
   "id": "86ee338c",
   "metadata": {
    "execution": {
     "iopub.execute_input": "2022-08-19T08:46:32.665524Z",
     "iopub.status.busy": "2022-08-19T08:46:32.660797Z",
     "iopub.status.idle": "2022-08-19T08:46:32.669197Z",
     "shell.execute_reply": "2022-08-19T08:46:32.668608Z",
     "shell.execute_reply.started": "2022-08-19T08:44:14.549455Z"
    },
    "papermill": {
     "duration": 0.043062,
     "end_time": "2022-08-19T08:46:32.669352",
     "exception": false,
     "start_time": "2022-08-19T08:46:32.626290",
     "status": "completed"
    },
    "tags": []
   },
   "outputs": [
    {
     "data": {
      "text/html": [
       "<div>\n",
       "<style scoped>\n",
       "    .dataframe tbody tr th:only-of-type {\n",
       "        vertical-align: middle;\n",
       "    }\n",
       "\n",
       "    .dataframe tbody tr th {\n",
       "        vertical-align: top;\n",
       "    }\n",
       "\n",
       "    .dataframe thead th {\n",
       "        text-align: right;\n",
       "    }\n",
       "</style>\n",
       "<table border=\"1\" class=\"dataframe\">\n",
       "  <thead>\n",
       "    <tr style=\"text-align: right;\">\n",
       "      <th></th>\n",
       "      <th>Income</th>\n",
       "      <th>Age</th>\n",
       "      <th>Experience</th>\n",
       "      <th>Married/Single</th>\n",
       "      <th>House_Ownership</th>\n",
       "      <th>Car_Ownership</th>\n",
       "      <th>Profession</th>\n",
       "      <th>STATE</th>\n",
       "      <th>CURRENT_JOB_YRS</th>\n",
       "      <th>CURRENT_HOUSE_YRS</th>\n",
       "    </tr>\n",
       "  </thead>\n",
       "  <tbody>\n",
       "    <tr>\n",
       "      <th>0</th>\n",
       "      <td>1303834</td>\n",
       "      <td>23</td>\n",
       "      <td>3</td>\n",
       "      <td>1</td>\n",
       "      <td>2</td>\n",
       "      <td>0</td>\n",
       "      <td>33</td>\n",
       "      <td>13</td>\n",
       "      <td>3</td>\n",
       "      <td>13</td>\n",
       "    </tr>\n",
       "    <tr>\n",
       "      <th>1</th>\n",
       "      <td>7574516</td>\n",
       "      <td>40</td>\n",
       "      <td>10</td>\n",
       "      <td>1</td>\n",
       "      <td>2</td>\n",
       "      <td>0</td>\n",
       "      <td>43</td>\n",
       "      <td>14</td>\n",
       "      <td>9</td>\n",
       "      <td>13</td>\n",
       "    </tr>\n",
       "    <tr>\n",
       "      <th>2</th>\n",
       "      <td>3991815</td>\n",
       "      <td>66</td>\n",
       "      <td>4</td>\n",
       "      <td>0</td>\n",
       "      <td>2</td>\n",
       "      <td>0</td>\n",
       "      <td>47</td>\n",
       "      <td>12</td>\n",
       "      <td>4</td>\n",
       "      <td>10</td>\n",
       "    </tr>\n",
       "    <tr>\n",
       "      <th>3</th>\n",
       "      <td>6256451</td>\n",
       "      <td>41</td>\n",
       "      <td>2</td>\n",
       "      <td>1</td>\n",
       "      <td>2</td>\n",
       "      <td>1</td>\n",
       "      <td>43</td>\n",
       "      <td>17</td>\n",
       "      <td>2</td>\n",
       "      <td>12</td>\n",
       "    </tr>\n",
       "    <tr>\n",
       "      <th>4</th>\n",
       "      <td>5768871</td>\n",
       "      <td>47</td>\n",
       "      <td>11</td>\n",
       "      <td>1</td>\n",
       "      <td>2</td>\n",
       "      <td>0</td>\n",
       "      <td>11</td>\n",
       "      <td>22</td>\n",
       "      <td>3</td>\n",
       "      <td>14</td>\n",
       "    </tr>\n",
       "  </tbody>\n",
       "</table>\n",
       "</div>"
      ],
      "text/plain": [
       "    Income  Age  Experience  Married/Single  House_Ownership  Car_Ownership  \\\n",
       "0  1303834   23           3               1                2              0   \n",
       "1  7574516   40          10               1                2              0   \n",
       "2  3991815   66           4               0                2              0   \n",
       "3  6256451   41           2               1                2              1   \n",
       "4  5768871   47          11               1                2              0   \n",
       "\n",
       "   Profession  STATE  CURRENT_JOB_YRS  CURRENT_HOUSE_YRS  \n",
       "0          33     13                3                 13  \n",
       "1          43     14                9                 13  \n",
       "2          47     12                4                 10  \n",
       "3          43     17                2                 12  \n",
       "4          11     22                3                 14  "
      ]
     },
     "execution_count": 15,
     "metadata": {},
     "output_type": "execute_result"
    }
   ],
   "source": [
    "X.head()"
   ]
  },
  {
   "cell_type": "code",
   "execution_count": 16,
   "id": "1ebead6c",
   "metadata": {
    "execution": {
     "iopub.execute_input": "2022-08-19T08:46:32.728272Z",
     "iopub.status.busy": "2022-08-19T08:46:32.727585Z",
     "iopub.status.idle": "2022-08-19T08:46:32.733211Z",
     "shell.execute_reply": "2022-08-19T08:46:32.733747Z",
     "shell.execute_reply.started": "2022-08-19T08:44:14.560768Z"
    },
    "papermill": {
     "duration": 0.037146,
     "end_time": "2022-08-19T08:46:32.733954",
     "exception": false,
     "start_time": "2022-08-19T08:46:32.696808",
     "status": "completed"
    },
    "tags": []
   },
   "outputs": [
    {
     "data": {
      "text/plain": [
       "0    0\n",
       "1    0\n",
       "2    0\n",
       "3    1\n",
       "4    1\n",
       "Name: Risk_Flag, dtype: int64"
      ]
     },
     "execution_count": 16,
     "metadata": {},
     "output_type": "execute_result"
    }
   ],
   "source": [
    "Y.head()"
   ]
  },
  {
   "cell_type": "code",
   "execution_count": 17,
   "id": "493b4fa0",
   "metadata": {
    "execution": {
     "iopub.execute_input": "2022-08-19T08:46:32.793723Z",
     "iopub.status.busy": "2022-08-19T08:46:32.793056Z",
     "iopub.status.idle": "2022-08-19T08:46:32.797433Z",
     "shell.execute_reply": "2022-08-19T08:46:32.798030Z",
     "shell.execute_reply.started": "2022-08-19T08:44:14.571358Z"
    },
    "papermill": {
     "duration": 0.036049,
     "end_time": "2022-08-19T08:46:32.798238",
     "exception": false,
     "start_time": "2022-08-19T08:46:32.762189",
     "status": "completed"
    },
    "tags": []
   },
   "outputs": [],
   "source": [
    "Y=pd.DataFrame(Y)"
   ]
  },
  {
   "cell_type": "code",
   "execution_count": 18,
   "id": "9b40b136",
   "metadata": {
    "execution": {
     "iopub.execute_input": "2022-08-19T08:46:32.858500Z",
     "iopub.status.busy": "2022-08-19T08:46:32.857567Z",
     "iopub.status.idle": "2022-08-19T08:46:32.866212Z",
     "shell.execute_reply": "2022-08-19T08:46:32.865536Z",
     "shell.execute_reply.started": "2022-08-19T08:44:14.581220Z"
    },
    "papermill": {
     "duration": 0.038888,
     "end_time": "2022-08-19T08:46:32.866359",
     "exception": false,
     "start_time": "2022-08-19T08:46:32.827471",
     "status": "completed"
    },
    "tags": []
   },
   "outputs": [
    {
     "data": {
      "text/html": [
       "<div>\n",
       "<style scoped>\n",
       "    .dataframe tbody tr th:only-of-type {\n",
       "        vertical-align: middle;\n",
       "    }\n",
       "\n",
       "    .dataframe tbody tr th {\n",
       "        vertical-align: top;\n",
       "    }\n",
       "\n",
       "    .dataframe thead th {\n",
       "        text-align: right;\n",
       "    }\n",
       "</style>\n",
       "<table border=\"1\" class=\"dataframe\">\n",
       "  <thead>\n",
       "    <tr style=\"text-align: right;\">\n",
       "      <th></th>\n",
       "      <th>Risk_Flag</th>\n",
       "    </tr>\n",
       "  </thead>\n",
       "  <tbody>\n",
       "    <tr>\n",
       "      <th>0</th>\n",
       "      <td>0</td>\n",
       "    </tr>\n",
       "    <tr>\n",
       "      <th>1</th>\n",
       "      <td>0</td>\n",
       "    </tr>\n",
       "    <tr>\n",
       "      <th>2</th>\n",
       "      <td>0</td>\n",
       "    </tr>\n",
       "    <tr>\n",
       "      <th>3</th>\n",
       "      <td>1</td>\n",
       "    </tr>\n",
       "    <tr>\n",
       "      <th>4</th>\n",
       "      <td>1</td>\n",
       "    </tr>\n",
       "  </tbody>\n",
       "</table>\n",
       "</div>"
      ],
      "text/plain": [
       "   Risk_Flag\n",
       "0          0\n",
       "1          0\n",
       "2          0\n",
       "3          1\n",
       "4          1"
      ]
     },
     "execution_count": 18,
     "metadata": {},
     "output_type": "execute_result"
    }
   ],
   "source": [
    "Y.head()"
   ]
  },
  {
   "cell_type": "code",
   "execution_count": 19,
   "id": "bc5eca50",
   "metadata": {
    "execution": {
     "iopub.execute_input": "2022-08-19T08:46:32.926925Z",
     "iopub.status.busy": "2022-08-19T08:46:32.926212Z",
     "iopub.status.idle": "2022-08-19T08:46:32.931497Z",
     "shell.execute_reply": "2022-08-19T08:46:32.932145Z",
     "shell.execute_reply.started": "2022-08-19T08:44:14.596384Z"
    },
    "papermill": {
     "duration": 0.037669,
     "end_time": "2022-08-19T08:46:32.932326",
     "exception": false,
     "start_time": "2022-08-19T08:46:32.894657",
     "status": "completed"
    },
    "tags": []
   },
   "outputs": [
    {
     "data": {
      "text/plain": [
       "(252000, 10)"
      ]
     },
     "execution_count": 19,
     "metadata": {},
     "output_type": "execute_result"
    }
   ],
   "source": [
    "X.shape"
   ]
  },
  {
   "cell_type": "code",
   "execution_count": 20,
   "id": "100c3869",
   "metadata": {
    "execution": {
     "iopub.execute_input": "2022-08-19T08:46:32.991832Z",
     "iopub.status.busy": "2022-08-19T08:46:32.991180Z",
     "iopub.status.idle": "2022-08-19T08:46:32.997774Z",
     "shell.execute_reply": "2022-08-19T08:46:32.997264Z",
     "shell.execute_reply.started": "2022-08-19T08:44:14.608463Z"
    },
    "papermill": {
     "duration": 0.037497,
     "end_time": "2022-08-19T08:46:32.997943",
     "exception": false,
     "start_time": "2022-08-19T08:46:32.960446",
     "status": "completed"
    },
    "tags": []
   },
   "outputs": [
    {
     "data": {
      "text/plain": [
       "(252000, 1)"
      ]
     },
     "execution_count": 20,
     "metadata": {},
     "output_type": "execute_result"
    }
   ],
   "source": [
    "Y.shape"
   ]
  },
  {
   "cell_type": "markdown",
   "id": "5406adc1",
   "metadata": {
    "papermill": {
     "duration": 0.028001,
     "end_time": "2022-08-19T08:46:33.055059",
     "exception": false,
     "start_time": "2022-08-19T08:46:33.027058",
     "status": "completed"
    },
    "tags": []
   },
   "source": [
    "### Splitting Data as Test Validation "
   ]
  },
  {
   "cell_type": "code",
   "execution_count": 21,
   "id": "48ab2940",
   "metadata": {
    "execution": {
     "iopub.execute_input": "2022-08-19T08:46:33.117021Z",
     "iopub.status.busy": "2022-08-19T08:46:33.114860Z",
     "iopub.status.idle": "2022-08-19T08:46:33.165986Z",
     "shell.execute_reply": "2022-08-19T08:46:33.165377Z",
     "shell.execute_reply.started": "2022-08-19T08:44:14.621878Z"
    },
    "papermill": {
     "duration": 0.08216,
     "end_time": "2022-08-19T08:46:33.166163",
     "exception": false,
     "start_time": "2022-08-19T08:46:33.084003",
     "status": "completed"
    },
    "tags": []
   },
   "outputs": [],
   "source": [
    "X_train,X_test,Y_train,Y_test=train_test_split(X,Y,train_size=0.8,test_size=0.2,random_state=0)"
   ]
  },
  {
   "cell_type": "code",
   "execution_count": 22,
   "id": "0a45507f",
   "metadata": {
    "execution": {
     "iopub.execute_input": "2022-08-19T08:46:33.236129Z",
     "iopub.status.busy": "2022-08-19T08:46:33.235264Z",
     "iopub.status.idle": "2022-08-19T08:46:33.238443Z",
     "shell.execute_reply": "2022-08-19T08:46:33.238992Z",
     "shell.execute_reply.started": "2022-08-19T08:44:14.665376Z"
    },
    "papermill": {
     "duration": 0.043468,
     "end_time": "2022-08-19T08:46:33.239177",
     "exception": false,
     "start_time": "2022-08-19T08:46:33.195709",
     "status": "completed"
    },
    "tags": []
   },
   "outputs": [
    {
     "data": {
      "text/html": [
       "<div>\n",
       "<style scoped>\n",
       "    .dataframe tbody tr th:only-of-type {\n",
       "        vertical-align: middle;\n",
       "    }\n",
       "\n",
       "    .dataframe tbody tr th {\n",
       "        vertical-align: top;\n",
       "    }\n",
       "\n",
       "    .dataframe thead th {\n",
       "        text-align: right;\n",
       "    }\n",
       "</style>\n",
       "<table border=\"1\" class=\"dataframe\">\n",
       "  <thead>\n",
       "    <tr style=\"text-align: right;\">\n",
       "      <th></th>\n",
       "      <th>Risk_Flag</th>\n",
       "    </tr>\n",
       "  </thead>\n",
       "  <tbody>\n",
       "    <tr>\n",
       "      <th>223480</th>\n",
       "      <td>0</td>\n",
       "    </tr>\n",
       "    <tr>\n",
       "      <th>177039</th>\n",
       "      <td>1</td>\n",
       "    </tr>\n",
       "    <tr>\n",
       "      <th>85476</th>\n",
       "      <td>0</td>\n",
       "    </tr>\n",
       "    <tr>\n",
       "      <th>243408</th>\n",
       "      <td>0</td>\n",
       "    </tr>\n",
       "    <tr>\n",
       "      <th>116275</th>\n",
       "      <td>0</td>\n",
       "    </tr>\n",
       "  </tbody>\n",
       "</table>\n",
       "</div>"
      ],
      "text/plain": [
       "        Risk_Flag\n",
       "223480          0\n",
       "177039          1\n",
       "85476           0\n",
       "243408          0\n",
       "116275          0"
      ]
     },
     "execution_count": 22,
     "metadata": {},
     "output_type": "execute_result"
    }
   ],
   "source": [
    "Y_train.head()"
   ]
  },
  {
   "cell_type": "markdown",
   "id": "02579f26",
   "metadata": {
    "papermill": {
     "duration": 0.028797,
     "end_time": "2022-08-19T08:46:33.297963",
     "exception": false,
     "start_time": "2022-08-19T08:46:33.269166",
     "status": "completed"
    },
    "tags": []
   },
   "source": [
    "### XGB Classifier"
   ]
  },
  {
   "cell_type": "code",
   "execution_count": 23,
   "id": "6849adff",
   "metadata": {
    "execution": {
     "iopub.execute_input": "2022-08-19T08:46:33.364873Z",
     "iopub.status.busy": "2022-08-19T08:46:33.364053Z",
     "iopub.status.idle": "2022-08-19T08:47:54.163196Z",
     "shell.execute_reply": "2022-08-19T08:47:54.163741Z",
     "shell.execute_reply.started": "2022-08-19T08:44:14.674805Z"
    },
    "papermill": {
     "duration": 80.835936,
     "end_time": "2022-08-19T08:47:54.163960",
     "exception": false,
     "start_time": "2022-08-19T08:46:33.328024",
     "status": "completed"
    },
    "tags": []
   },
   "outputs": [
    {
     "name": "stdout",
     "output_type": "stream",
     "text": [
      "Accuracy_score: 0.8971428571428571\n"
     ]
    }
   ],
   "source": [
    "from xgboost import XGBClassifier\n",
    "from sklearn.model_selection import cross_val_score\n",
    "from sklearn.metrics import confusion_matrix,precision_score,recall_score,f1_score,accuracy_score,roc_auc_score\n",
    "\n",
    "clf=XGBClassifier(learning_rate=0.1,\n",
    "                 n_estimators=1000,\n",
    "                 use_label_encoder=False,\n",
    "                random_state=42)\n",
    "clf.fit(X_train,Y_train,eval_metric='logloss')\n",
    "y_predict=clf.predict(X_test)\n",
    "\n",
    "print(\"Accuracy_score:\",str(accuracy_score(Y_test,y_predict)))\n",
    "\n"
   ]
  },
  {
   "cell_type": "code",
   "execution_count": 24,
   "id": "97be0ab7",
   "metadata": {
    "execution": {
     "iopub.execute_input": "2022-08-19T08:47:54.229649Z",
     "iopub.status.busy": "2022-08-19T08:47:54.228946Z",
     "iopub.status.idle": "2022-08-19T08:47:54.277905Z",
     "shell.execute_reply": "2022-08-19T08:47:54.278591Z",
     "shell.execute_reply.started": "2022-08-19T08:45:17.131338Z"
    },
    "papermill": {
     "duration": 0.084,
     "end_time": "2022-08-19T08:47:54.278855",
     "exception": false,
     "start_time": "2022-08-19T08:47:54.194855",
     "status": "completed"
    },
    "tags": []
   },
   "outputs": [
    {
     "name": "stdout",
     "output_type": "stream",
     "text": [
      "F1 Score:0.4862239841427156\n",
      "Recall Score:0.39944634424360853\n",
      "ROC AUC Score : 0.6828226547129156\n"
     ]
    }
   ],
   "source": [
    "print(\"F1 Score:\"+str(f1_score(Y_test,y_predict)))\n",
    "print(\"Recall Score:\"+str(recall_score(Y_test,y_predict)))\n",
    "print(\"ROC AUC Score : \"+str(roc_auc_score(Y_test,y_predict)))"
   ]
  },
  {
   "cell_type": "markdown",
   "id": "92f5400f",
   "metadata": {
    "papermill": {
     "duration": 0.029776,
     "end_time": "2022-08-19T08:47:54.338944",
     "exception": false,
     "start_time": "2022-08-19T08:47:54.309168",
     "status": "completed"
    },
    "tags": []
   },
   "source": [
    "### Decision Tree Classifier"
   ]
  },
  {
   "cell_type": "code",
   "execution_count": 25,
   "id": "434aa494",
   "metadata": {
    "execution": {
     "iopub.execute_input": "2022-08-19T08:47:54.403872Z",
     "iopub.status.busy": "2022-08-19T08:47:54.402931Z",
     "iopub.status.idle": "2022-08-19T08:47:56.211535Z",
     "shell.execute_reply": "2022-08-19T08:47:56.213252Z",
     "shell.execute_reply.started": "2022-08-19T08:45:17.177683Z"
    },
    "papermill": {
     "duration": 1.845405,
     "end_time": "2022-08-19T08:47:56.213577",
     "exception": false,
     "start_time": "2022-08-19T08:47:54.368172",
     "status": "completed"
    },
    "tags": []
   },
   "outputs": [
    {
     "name": "stderr",
     "output_type": "stream",
     "text": [
      "/opt/conda/lib/python3.7/site-packages/sklearn/utils/deprecation.py:143: FutureWarning: The sklearn.tree.tree module is  deprecated in version 0.22 and will be removed in version 0.24. The corresponding classes / functions should instead be imported from sklearn.tree. Anything that cannot be imported from sklearn.tree is now part of the private API.\n",
      "  warnings.warn(message, FutureWarning)\n"
     ]
    },
    {
     "name": "stdout",
     "output_type": "stream",
     "text": [
      "accuracy_score: 0.8818849206349206\n"
     ]
    }
   ],
   "source": [
    "from sklearn.tree import tree\n",
    "dtc = tree.DecisionTreeClassifier()\n",
    "dtc.fit(X_train, Y_train)\n",
    "predsdtc = dtc.predict(X_test)\n",
    "print(\"accuracy_score: \" + str(accuracy_score(Y_test, predsdtc)))"
   ]
  },
  {
   "cell_type": "code",
   "execution_count": 26,
   "id": "21bdc8f4",
   "metadata": {
    "execution": {
     "iopub.execute_input": "2022-08-19T08:47:56.286120Z",
     "iopub.status.busy": "2022-08-19T08:47:56.285380Z",
     "iopub.status.idle": "2022-08-19T08:47:56.305783Z",
     "shell.execute_reply": "2022-08-19T08:47:56.306430Z",
     "shell.execute_reply.started": "2022-08-19T08:45:18.677456Z"
    },
    "papermill": {
     "duration": 0.056532,
     "end_time": "2022-08-19T08:47:56.306623",
     "exception": false,
     "start_time": "2022-08-19T08:47:56.250091",
     "status": "completed"
    },
    "tags": []
   },
   "outputs": [
    {
     "name": "stdout",
     "output_type": "stream",
     "text": [
      "F1 score:0.5370557586126448\n"
     ]
    }
   ],
   "source": [
    "print(\"F1 score:\"+str(f1_score(Y_test,predsdtc)))"
   ]
  },
  {
   "cell_type": "code",
   "execution_count": 27,
   "id": "6b5e9523",
   "metadata": {
    "execution": {
     "iopub.execute_input": "2022-08-19T08:47:56.373363Z",
     "iopub.status.busy": "2022-08-19T08:47:56.372621Z",
     "iopub.status.idle": "2022-08-19T08:47:56.387353Z",
     "shell.execute_reply": "2022-08-19T08:47:56.387920Z",
     "shell.execute_reply.started": "2022-08-19T08:45:18.699140Z"
    },
    "papermill": {
     "duration": 0.050133,
     "end_time": "2022-08-19T08:47:56.388109",
     "exception": false,
     "start_time": "2022-08-19T08:47:56.337976",
     "status": "completed"
    },
    "tags": []
   },
   "outputs": [
    {
     "name": "stdout",
     "output_type": "stream",
     "text": [
      "ROC AUC SCORE0.7442579829948668\n"
     ]
    }
   ],
   "source": [
    "print(\"ROC AUC SCORE\"+str(roc_auc_score(Y_test,predsdtc)))"
   ]
  }
 ],
 "metadata": {
  "kernelspec": {
   "display_name": "Python 3",
   "language": "python",
   "name": "python3"
  },
  "language_info": {
   "codemirror_mode": {
    "name": "ipython",
    "version": 3
   },
   "file_extension": ".py",
   "mimetype": "text/x-python",
   "name": "python",
   "nbconvert_exporter": "python",
   "pygments_lexer": "ipython3",
   "version": "3.7.10"
  },
  "papermill": {
   "default_parameters": {},
   "duration": 98.844046,
   "end_time": "2022-08-19T08:47:58.181622",
   "environment_variables": {},
   "exception": null,
   "input_path": "__notebook__.ipynb",
   "output_path": "__notebook__.ipynb",
   "parameters": {},
   "start_time": "2022-08-19T08:46:19.337576",
   "version": "2.3.3"
  }
 },
 "nbformat": 4,
 "nbformat_minor": 5
}
