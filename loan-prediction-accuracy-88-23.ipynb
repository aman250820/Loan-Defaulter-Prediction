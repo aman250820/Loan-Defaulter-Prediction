{
 "cells": [
  {
   "cell_type": "code",
   "execution_count": 1,
   "id": "2492144c",
   "metadata": {
    "_cell_guid": "b1076dfc-b9ad-4769-8c92-a6c4dae69d19",
    "_uuid": "8f2839f25d086af736a60e9eeb907d3b93b6e0e5",
    "execution": {
     "iopub.execute_input": "2022-08-18T20:02:19.964435Z",
     "iopub.status.busy": "2022-08-18T20:02:19.962977Z",
     "iopub.status.idle": "2022-08-18T20:02:19.981065Z",
     "shell.execute_reply": "2022-08-18T20:02:19.981813Z",
     "shell.execute_reply.started": "2022-08-18T19:49:43.395691Z"
    },
    "papermill": {
     "duration": 0.049985,
     "end_time": "2022-08-18T20:02:19.982215",
     "exception": false,
     "start_time": "2022-08-18T20:02:19.932230",
     "status": "completed"
    },
    "tags": []
   },
   "outputs": [
    {
     "name": "stdout",
     "output_type": "stream",
     "text": [
      "/kaggle/input/loan-prediction-based-on-customer-behavior/Test Data.csv\n",
      "/kaggle/input/loan-prediction-based-on-customer-behavior/Training Data.csv\n",
      "/kaggle/input/loan-prediction-based-on-customer-behavior/Sample Prediction Dataset.csv\n"
     ]
    }
   ],
   "source": [
    "\n",
    "\n",
    "import numpy as np # linear algebra\n",
    "import pandas as pd # data processing, CSV file I/O (e.g. pd.read_csv)\n",
    "\n",
    "\n",
    "import os\n",
    "for dirname, _, filenames in os.walk('/kaggle/input'):\n",
    "    for filename in filenames:\n",
    "        print(os.path.join(dirname, filename))\n",
    "\n"
   ]
  },
  {
   "cell_type": "code",
   "execution_count": 2,
   "id": "1a415290",
   "metadata": {
    "execution": {
     "iopub.execute_input": "2022-08-18T20:02:20.038332Z",
     "iopub.status.busy": "2022-08-18T20:02:20.037570Z",
     "iopub.status.idle": "2022-08-18T20:02:23.236254Z",
     "shell.execute_reply": "2022-08-18T20:02:23.236829Z",
     "shell.execute_reply.started": "2022-08-18T19:49:43.407568Z"
    },
    "papermill": {
     "duration": 3.228556,
     "end_time": "2022-08-18T20:02:23.237036",
     "exception": false,
     "start_time": "2022-08-18T20:02:20.008480",
     "status": "completed"
    },
    "tags": []
   },
   "outputs": [],
   "source": [
    "import numpy as np\n",
    "import pandas as pd \n",
    "import matplotlib.pyplot as plt\n",
    "import plotly.express as px\n",
    "import seaborn as sns\n",
    "%matplotlib inline\n",
    "from sklearn.preprocessing import LabelEncoder\n",
    "from sklearn.model_selection import train_test_split\n",
    "from sklearn.linear_model import LinearRegression\n",
    "from sklearn.ensemble import RandomForestRegressor\n",
    "import sklearn.metrics as metrics\n",
    "import os"
   ]
  },
  {
   "cell_type": "markdown",
   "id": "a8ceeb18",
   "metadata": {
    "papermill": {
     "duration": 0.027118,
     "end_time": "2022-08-18T20:02:23.290663",
     "exception": false,
     "start_time": "2022-08-18T20:02:23.263545",
     "status": "completed"
    },
    "tags": []
   },
   "source": [
    "### Reading Data"
   ]
  },
  {
   "cell_type": "code",
   "execution_count": 3,
   "id": "aef33b91",
   "metadata": {
    "execution": {
     "iopub.execute_input": "2022-08-18T20:02:23.351992Z",
     "iopub.status.busy": "2022-08-18T20:02:23.351189Z",
     "iopub.status.idle": "2022-08-18T20:02:24.107634Z",
     "shell.execute_reply": "2022-08-18T20:02:24.108326Z",
     "shell.execute_reply.started": "2022-08-18T19:49:43.417536Z"
    },
    "papermill": {
     "duration": 0.790337,
     "end_time": "2022-08-18T20:02:24.108511",
     "exception": false,
     "start_time": "2022-08-18T20:02:23.318174",
     "status": "completed"
    },
    "tags": []
   },
   "outputs": [
    {
     "data": {
      "text/html": [
       "<div>\n",
       "<style scoped>\n",
       "    .dataframe tbody tr th:only-of-type {\n",
       "        vertical-align: middle;\n",
       "    }\n",
       "\n",
       "    .dataframe tbody tr th {\n",
       "        vertical-align: top;\n",
       "    }\n",
       "\n",
       "    .dataframe thead th {\n",
       "        text-align: right;\n",
       "    }\n",
       "</style>\n",
       "<table border=\"1\" class=\"dataframe\">\n",
       "  <thead>\n",
       "    <tr style=\"text-align: right;\">\n",
       "      <th></th>\n",
       "      <th>Id</th>\n",
       "      <th>Income</th>\n",
       "      <th>Age</th>\n",
       "      <th>Experience</th>\n",
       "      <th>Married/Single</th>\n",
       "      <th>House_Ownership</th>\n",
       "      <th>Car_Ownership</th>\n",
       "      <th>Profession</th>\n",
       "      <th>CITY</th>\n",
       "      <th>STATE</th>\n",
       "      <th>CURRENT_JOB_YRS</th>\n",
       "      <th>CURRENT_HOUSE_YRS</th>\n",
       "      <th>Risk_Flag</th>\n",
       "    </tr>\n",
       "  </thead>\n",
       "  <tbody>\n",
       "    <tr>\n",
       "      <th>0</th>\n",
       "      <td>1</td>\n",
       "      <td>1303834</td>\n",
       "      <td>23</td>\n",
       "      <td>3</td>\n",
       "      <td>single</td>\n",
       "      <td>rented</td>\n",
       "      <td>no</td>\n",
       "      <td>Mechanical_engineer</td>\n",
       "      <td>Rewa</td>\n",
       "      <td>Madhya_Pradesh</td>\n",
       "      <td>3</td>\n",
       "      <td>13</td>\n",
       "      <td>0</td>\n",
       "    </tr>\n",
       "    <tr>\n",
       "      <th>1</th>\n",
       "      <td>2</td>\n",
       "      <td>7574516</td>\n",
       "      <td>40</td>\n",
       "      <td>10</td>\n",
       "      <td>single</td>\n",
       "      <td>rented</td>\n",
       "      <td>no</td>\n",
       "      <td>Software_Developer</td>\n",
       "      <td>Parbhani</td>\n",
       "      <td>Maharashtra</td>\n",
       "      <td>9</td>\n",
       "      <td>13</td>\n",
       "      <td>0</td>\n",
       "    </tr>\n",
       "    <tr>\n",
       "      <th>2</th>\n",
       "      <td>3</td>\n",
       "      <td>3991815</td>\n",
       "      <td>66</td>\n",
       "      <td>4</td>\n",
       "      <td>married</td>\n",
       "      <td>rented</td>\n",
       "      <td>no</td>\n",
       "      <td>Technical_writer</td>\n",
       "      <td>Alappuzha</td>\n",
       "      <td>Kerala</td>\n",
       "      <td>4</td>\n",
       "      <td>10</td>\n",
       "      <td>0</td>\n",
       "    </tr>\n",
       "    <tr>\n",
       "      <th>3</th>\n",
       "      <td>4</td>\n",
       "      <td>6256451</td>\n",
       "      <td>41</td>\n",
       "      <td>2</td>\n",
       "      <td>single</td>\n",
       "      <td>rented</td>\n",
       "      <td>yes</td>\n",
       "      <td>Software_Developer</td>\n",
       "      <td>Bhubaneswar</td>\n",
       "      <td>Odisha</td>\n",
       "      <td>2</td>\n",
       "      <td>12</td>\n",
       "      <td>1</td>\n",
       "    </tr>\n",
       "    <tr>\n",
       "      <th>4</th>\n",
       "      <td>5</td>\n",
       "      <td>5768871</td>\n",
       "      <td>47</td>\n",
       "      <td>11</td>\n",
       "      <td>single</td>\n",
       "      <td>rented</td>\n",
       "      <td>no</td>\n",
       "      <td>Civil_servant</td>\n",
       "      <td>Tiruchirappalli[10]</td>\n",
       "      <td>Tamil_Nadu</td>\n",
       "      <td>3</td>\n",
       "      <td>14</td>\n",
       "      <td>1</td>\n",
       "    </tr>\n",
       "  </tbody>\n",
       "</table>\n",
       "</div>"
      ],
      "text/plain": [
       "   Id   Income  Age  Experience Married/Single House_Ownership Car_Ownership  \\\n",
       "0   1  1303834   23           3         single          rented            no   \n",
       "1   2  7574516   40          10         single          rented            no   \n",
       "2   3  3991815   66           4        married          rented            no   \n",
       "3   4  6256451   41           2         single          rented           yes   \n",
       "4   5  5768871   47          11         single          rented            no   \n",
       "\n",
       "            Profession                 CITY           STATE  CURRENT_JOB_YRS  \\\n",
       "0  Mechanical_engineer                 Rewa  Madhya_Pradesh                3   \n",
       "1   Software_Developer             Parbhani     Maharashtra                9   \n",
       "2     Technical_writer            Alappuzha          Kerala                4   \n",
       "3   Software_Developer          Bhubaneswar          Odisha                2   \n",
       "4        Civil_servant  Tiruchirappalli[10]      Tamil_Nadu                3   \n",
       "\n",
       "   CURRENT_HOUSE_YRS  Risk_Flag  \n",
       "0                 13          0  \n",
       "1                 13          0  \n",
       "2                 10          0  \n",
       "3                 12          1  \n",
       "4                 14          1  "
      ]
     },
     "execution_count": 3,
     "metadata": {},
     "output_type": "execute_result"
    }
   ],
   "source": [
    "df=pd.read_csv('/kaggle/input/loan-prediction-based-on-customer-behavior/Training Data.csv')\n",
    "df.head()"
   ]
  },
  {
   "cell_type": "markdown",
   "id": "1549dfee",
   "metadata": {
    "papermill": {
     "duration": 0.026686,
     "end_time": "2022-08-18T20:02:24.160928",
     "exception": false,
     "start_time": "2022-08-18T20:02:24.134242",
     "status": "completed"
    },
    "tags": []
   },
   "source": [
    "### Preprocessing The Data"
   ]
  },
  {
   "cell_type": "code",
   "execution_count": 4,
   "id": "a0e0f01f",
   "metadata": {
    "execution": {
     "iopub.execute_input": "2022-08-18T20:02:24.223921Z",
     "iopub.status.busy": "2022-08-18T20:02:24.223117Z",
     "iopub.status.idle": "2022-08-18T20:02:24.269666Z",
     "shell.execute_reply": "2022-08-18T20:02:24.269072Z",
     "shell.execute_reply.started": "2022-08-18T19:49:43.834275Z"
    },
    "papermill": {
     "duration": 0.082261,
     "end_time": "2022-08-18T20:02:24.269823",
     "exception": false,
     "start_time": "2022-08-18T20:02:24.187562",
     "status": "completed"
    },
    "tags": []
   },
   "outputs": [
    {
     "data": {
      "text/html": [
       "<div>\n",
       "<style scoped>\n",
       "    .dataframe tbody tr th:only-of-type {\n",
       "        vertical-align: middle;\n",
       "    }\n",
       "\n",
       "    .dataframe tbody tr th {\n",
       "        vertical-align: top;\n",
       "    }\n",
       "\n",
       "    .dataframe thead th {\n",
       "        text-align: right;\n",
       "    }\n",
       "</style>\n",
       "<table border=\"1\" class=\"dataframe\">\n",
       "  <thead>\n",
       "    <tr style=\"text-align: right;\">\n",
       "      <th></th>\n",
       "      <th>Income</th>\n",
       "      <th>Age</th>\n",
       "      <th>Experience</th>\n",
       "      <th>Married/Single</th>\n",
       "      <th>House_Ownership</th>\n",
       "      <th>Car_Ownership</th>\n",
       "      <th>Profession</th>\n",
       "      <th>CITY</th>\n",
       "      <th>STATE</th>\n",
       "      <th>CURRENT_JOB_YRS</th>\n",
       "      <th>CURRENT_HOUSE_YRS</th>\n",
       "      <th>Risk_Flag</th>\n",
       "    </tr>\n",
       "  </thead>\n",
       "  <tbody>\n",
       "    <tr>\n",
       "      <th>0</th>\n",
       "      <td>1303834</td>\n",
       "      <td>23</td>\n",
       "      <td>3</td>\n",
       "      <td>single</td>\n",
       "      <td>rented</td>\n",
       "      <td>no</td>\n",
       "      <td>Mechanical_engineer</td>\n",
       "      <td>Rewa</td>\n",
       "      <td>Madhya_Pradesh</td>\n",
       "      <td>3</td>\n",
       "      <td>13</td>\n",
       "      <td>0</td>\n",
       "    </tr>\n",
       "    <tr>\n",
       "      <th>1</th>\n",
       "      <td>7574516</td>\n",
       "      <td>40</td>\n",
       "      <td>10</td>\n",
       "      <td>single</td>\n",
       "      <td>rented</td>\n",
       "      <td>no</td>\n",
       "      <td>Software_Developer</td>\n",
       "      <td>Parbhani</td>\n",
       "      <td>Maharashtra</td>\n",
       "      <td>9</td>\n",
       "      <td>13</td>\n",
       "      <td>0</td>\n",
       "    </tr>\n",
       "    <tr>\n",
       "      <th>2</th>\n",
       "      <td>3991815</td>\n",
       "      <td>66</td>\n",
       "      <td>4</td>\n",
       "      <td>married</td>\n",
       "      <td>rented</td>\n",
       "      <td>no</td>\n",
       "      <td>Technical_writer</td>\n",
       "      <td>Alappuzha</td>\n",
       "      <td>Kerala</td>\n",
       "      <td>4</td>\n",
       "      <td>10</td>\n",
       "      <td>0</td>\n",
       "    </tr>\n",
       "    <tr>\n",
       "      <th>3</th>\n",
       "      <td>6256451</td>\n",
       "      <td>41</td>\n",
       "      <td>2</td>\n",
       "      <td>single</td>\n",
       "      <td>rented</td>\n",
       "      <td>yes</td>\n",
       "      <td>Software_Developer</td>\n",
       "      <td>Bhubaneswar</td>\n",
       "      <td>Odisha</td>\n",
       "      <td>2</td>\n",
       "      <td>12</td>\n",
       "      <td>1</td>\n",
       "    </tr>\n",
       "    <tr>\n",
       "      <th>4</th>\n",
       "      <td>5768871</td>\n",
       "      <td>47</td>\n",
       "      <td>11</td>\n",
       "      <td>single</td>\n",
       "      <td>rented</td>\n",
       "      <td>no</td>\n",
       "      <td>Civil_servant</td>\n",
       "      <td>Tiruchirappalli[10]</td>\n",
       "      <td>Tamil_Nadu</td>\n",
       "      <td>3</td>\n",
       "      <td>14</td>\n",
       "      <td>1</td>\n",
       "    </tr>\n",
       "  </tbody>\n",
       "</table>\n",
       "</div>"
      ],
      "text/plain": [
       "    Income  Age  Experience Married/Single House_Ownership Car_Ownership  \\\n",
       "0  1303834   23           3         single          rented            no   \n",
       "1  7574516   40          10         single          rented            no   \n",
       "2  3991815   66           4        married          rented            no   \n",
       "3  6256451   41           2         single          rented           yes   \n",
       "4  5768871   47          11         single          rented            no   \n",
       "\n",
       "            Profession                 CITY           STATE  CURRENT_JOB_YRS  \\\n",
       "0  Mechanical_engineer                 Rewa  Madhya_Pradesh                3   \n",
       "1   Software_Developer             Parbhani     Maharashtra                9   \n",
       "2     Technical_writer            Alappuzha          Kerala                4   \n",
       "3   Software_Developer          Bhubaneswar          Odisha                2   \n",
       "4        Civil_servant  Tiruchirappalli[10]      Tamil_Nadu                3   \n",
       "\n",
       "   CURRENT_HOUSE_YRS  Risk_Flag  \n",
       "0                 13          0  \n",
       "1                 13          0  \n",
       "2                 10          0  \n",
       "3                 12          1  \n",
       "4                 14          1  "
      ]
     },
     "execution_count": 4,
     "metadata": {},
     "output_type": "execute_result"
    }
   ],
   "source": [
    "df=df.drop('Id',axis=1)\n",
    "df.head()"
   ]
  },
  {
   "cell_type": "code",
   "execution_count": 5,
   "id": "d4542e16",
   "metadata": {
    "execution": {
     "iopub.execute_input": "2022-08-18T20:02:24.402794Z",
     "iopub.status.busy": "2022-08-18T20:02:24.331206Z",
     "iopub.status.idle": "2022-08-18T20:02:24.415609Z",
     "shell.execute_reply": "2022-08-18T20:02:24.414955Z",
     "shell.execute_reply.started": "2022-08-18T19:49:43.880591Z"
    },
    "papermill": {
     "duration": 0.118898,
     "end_time": "2022-08-18T20:02:24.415769",
     "exception": false,
     "start_time": "2022-08-18T20:02:24.296871",
     "status": "completed"
    },
    "tags": []
   },
   "outputs": [
    {
     "data": {
      "text/plain": [
       "Income               0\n",
       "Age                  0\n",
       "Experience           0\n",
       "Married/Single       0\n",
       "House_Ownership      0\n",
       "Car_Ownership        0\n",
       "Profession           0\n",
       "CITY                 0\n",
       "STATE                0\n",
       "CURRENT_JOB_YRS      0\n",
       "CURRENT_HOUSE_YRS    0\n",
       "Risk_Flag            0\n",
       "dtype: int64"
      ]
     },
     "execution_count": 5,
     "metadata": {},
     "output_type": "execute_result"
    }
   ],
   "source": [
    "df.isnull().sum()"
   ]
  },
  {
   "cell_type": "code",
   "execution_count": 6,
   "id": "1963d4e3",
   "metadata": {
    "execution": {
     "iopub.execute_input": "2022-08-18T20:02:24.554227Z",
     "iopub.status.busy": "2022-08-18T20:02:24.553030Z",
     "iopub.status.idle": "2022-08-18T20:02:24.575335Z",
     "shell.execute_reply": "2022-08-18T20:02:24.576190Z",
     "shell.execute_reply.started": "2022-08-18T19:49:43.966158Z"
    },
    "papermill": {
     "duration": 0.132572,
     "end_time": "2022-08-18T20:02:24.576440",
     "exception": false,
     "start_time": "2022-08-18T20:02:24.443868",
     "status": "completed"
    },
    "tags": []
   },
   "outputs": [
    {
     "name": "stdout",
     "output_type": "stream",
     "text": [
      "<class 'pandas.core.frame.DataFrame'>\n",
      "RangeIndex: 252000 entries, 0 to 251999\n",
      "Data columns (total 12 columns):\n",
      " #   Column             Non-Null Count   Dtype \n",
      "---  ------             --------------   ----- \n",
      " 0   Income             252000 non-null  int64 \n",
      " 1   Age                252000 non-null  int64 \n",
      " 2   Experience         252000 non-null  int64 \n",
      " 3   Married/Single     252000 non-null  object\n",
      " 4   House_Ownership    252000 non-null  object\n",
      " 5   Car_Ownership      252000 non-null  object\n",
      " 6   Profession         252000 non-null  object\n",
      " 7   CITY               252000 non-null  object\n",
      " 8   STATE              252000 non-null  object\n",
      " 9   CURRENT_JOB_YRS    252000 non-null  int64 \n",
      " 10  CURRENT_HOUSE_YRS  252000 non-null  int64 \n",
      " 11  Risk_Flag          252000 non-null  int64 \n",
      "dtypes: int64(6), object(6)\n",
      "memory usage: 23.1+ MB\n"
     ]
    }
   ],
   "source": [
    "df.info()"
   ]
  },
  {
   "cell_type": "code",
   "execution_count": 7,
   "id": "6db7676b",
   "metadata": {
    "execution": {
     "iopub.execute_input": "2022-08-18T20:02:24.640496Z",
     "iopub.status.busy": "2022-08-18T20:02:24.637679Z",
     "iopub.status.idle": "2022-08-18T20:02:24.663968Z",
     "shell.execute_reply": "2022-08-18T20:02:24.664525Z",
     "shell.execute_reply.started": "2022-08-18T19:49:44.062301Z"
    },
    "papermill": {
     "duration": 0.05881,
     "end_time": "2022-08-18T20:02:24.664804",
     "exception": false,
     "start_time": "2022-08-18T20:02:24.605994",
     "status": "completed"
    },
    "tags": []
   },
   "outputs": [
    {
     "data": {
      "text/plain": [
       "Physician                     5957\n",
       "Statistician                  5806\n",
       "Web_designer                  5397\n",
       "Psychologist                  5390\n",
       "Computer_hardware_engineer    5372\n",
       "Drafter                       5359\n",
       "Magistrate                    5357\n",
       "Fashion_Designer              5304\n",
       "Air_traffic_controller        5281\n",
       "Comedian                      5259\n",
       "Industrial_Engineer           5250\n",
       "Mechanical_engineer           5217\n",
       "Chemical_engineer             5205\n",
       "Technical_writer              5195\n",
       "Hotel_Manager                 5178\n",
       "Financial_Analyst             5167\n",
       "Graphic_Designer              5166\n",
       "Flight_attendant              5128\n",
       "Biomedical_Engineer           5127\n",
       "Secretary                     5061\n",
       "Software_Developer            5053\n",
       "Petroleum_Engineer            5041\n",
       "Police_officer                5035\n",
       "Computer_operator             4990\n",
       "Politician                    4944\n",
       "Microbiologist                4881\n",
       "Technician                    4864\n",
       "Artist                        4861\n",
       "Lawyer                        4818\n",
       "Consultant                    4808\n",
       "Dentist                       4782\n",
       "Scientist                     4781\n",
       "Surgeon                       4772\n",
       "Aviator                       4758\n",
       "Technology_specialist         4737\n",
       "Design_Engineer               4729\n",
       "Surveyor                      4714\n",
       "Geologist                     4672\n",
       "Analyst                       4668\n",
       "Army_officer                  4661\n",
       "Architect                     4657\n",
       "Chef                          4635\n",
       "Librarian                     4628\n",
       "Civil_engineer                4616\n",
       "Designer                      4598\n",
       "Economist                     4573\n",
       "Firefighter                   4507\n",
       "Chartered_Accountant          4493\n",
       "Civil_servant                 4413\n",
       "Official                      4087\n",
       "Engineer                      4048\n",
       "Name: Profession, dtype: int64"
      ]
     },
     "execution_count": 7,
     "metadata": {},
     "output_type": "execute_result"
    }
   ],
   "source": [
    "df['Profession'].value_counts()"
   ]
  },
  {
   "cell_type": "code",
   "execution_count": 8,
   "id": "3a10e1e7",
   "metadata": {
    "execution": {
     "iopub.execute_input": "2022-08-18T20:02:24.731986Z",
     "iopub.status.busy": "2022-08-18T20:02:24.731288Z",
     "iopub.status.idle": "2022-08-18T20:02:24.735401Z",
     "shell.execute_reply": "2022-08-18T20:02:24.735900Z",
     "shell.execute_reply.started": "2022-08-18T19:49:44.098052Z"
    },
    "papermill": {
     "duration": 0.042418,
     "end_time": "2022-08-18T20:02:24.736113",
     "exception": false,
     "start_time": "2022-08-18T20:02:24.693695",
     "status": "completed"
    },
    "tags": []
   },
   "outputs": [
    {
     "data": {
      "text/plain": [
       "0                   Rewa\n",
       "1               Parbhani\n",
       "2              Alappuzha\n",
       "3            Bhubaneswar\n",
       "4    Tiruchirappalli[10]\n",
       "Name: CITY, dtype: object"
      ]
     },
     "execution_count": 8,
     "metadata": {},
     "output_type": "execute_result"
    }
   ],
   "source": [
    "df['CITY'].head()"
   ]
  },
  {
   "cell_type": "code",
   "execution_count": 9,
   "id": "c68f73fa",
   "metadata": {
    "execution": {
     "iopub.execute_input": "2022-08-18T20:02:24.812942Z",
     "iopub.status.busy": "2022-08-18T20:02:24.812208Z",
     "iopub.status.idle": "2022-08-18T20:02:24.824842Z",
     "shell.execute_reply": "2022-08-18T20:02:24.825404Z",
     "shell.execute_reply.started": "2022-08-18T19:49:44.108684Z"
    },
    "papermill": {
     "duration": 0.059715,
     "end_time": "2022-08-18T20:02:24.825606",
     "exception": false,
     "start_time": "2022-08-18T20:02:24.765891",
     "status": "completed"
    },
    "tags": []
   },
   "outputs": [
    {
     "data": {
      "text/plain": [
       "array(['Madhya_Pradesh', 'Maharashtra', 'Kerala', 'Odisha', 'Tamil_Nadu',\n",
       "       'Gujarat', 'Rajasthan', 'Telangana', 'Bihar', 'Andhra_Pradesh',\n",
       "       'West_Bengal', 'Haryana', 'Puducherry', 'Karnataka',\n",
       "       'Uttar_Pradesh', 'Himachal_Pradesh', 'Punjab', 'Tripura',\n",
       "       'Uttarakhand', 'Jharkhand', 'Mizoram', 'Assam',\n",
       "       'Jammu_and_Kashmir', 'Delhi', 'Chhattisgarh', 'Chandigarh',\n",
       "       'Uttar_Pradesh[5]', 'Manipur', 'Sikkim'], dtype=object)"
      ]
     },
     "execution_count": 9,
     "metadata": {},
     "output_type": "execute_result"
    }
   ],
   "source": [
    "df['STATE'].unique()"
   ]
  },
  {
   "cell_type": "code",
   "execution_count": 10,
   "id": "d39a31c3",
   "metadata": {
    "execution": {
     "iopub.execute_input": "2022-08-18T20:02:24.886534Z",
     "iopub.status.busy": "2022-08-18T20:02:24.885809Z",
     "iopub.status.idle": "2022-08-18T20:02:24.916036Z",
     "shell.execute_reply": "2022-08-18T20:02:24.916615Z",
     "shell.execute_reply.started": "2022-08-18T19:49:44.147809Z"
    },
    "papermill": {
     "duration": 0.063494,
     "end_time": "2022-08-18T20:02:24.916799",
     "exception": false,
     "start_time": "2022-08-18T20:02:24.853305",
     "status": "completed"
    },
    "tags": []
   },
   "outputs": [],
   "source": [
    "df=df.drop('CITY',axis=1)"
   ]
  },
  {
   "cell_type": "markdown",
   "id": "376010b3",
   "metadata": {
    "papermill": {
     "duration": 0.027144,
     "end_time": "2022-08-18T20:02:24.974602",
     "exception": false,
     "start_time": "2022-08-18T20:02:24.947458",
     "status": "completed"
    },
    "tags": []
   },
   "source": [
    "#### Encoding The Categorical data"
   ]
  },
  {
   "cell_type": "code",
   "execution_count": 11,
   "id": "66a364a9",
   "metadata": {
    "execution": {
     "iopub.execute_input": "2022-08-18T20:02:25.034382Z",
     "iopub.status.busy": "2022-08-18T20:02:25.033561Z",
     "iopub.status.idle": "2022-08-18T20:02:25.341713Z",
     "shell.execute_reply": "2022-08-18T20:02:25.341119Z",
     "shell.execute_reply.started": "2022-08-18T19:49:44.182423Z"
    },
    "papermill": {
     "duration": 0.340005,
     "end_time": "2022-08-18T20:02:25.341892",
     "exception": false,
     "start_time": "2022-08-18T20:02:25.001887",
     "status": "completed"
    },
    "tags": []
   },
   "outputs": [],
   "source": [
    "en = LabelEncoder()\n",
    "catCols = ['Married/Single','House_Ownership','Car_Ownership','Profession','STATE']\n",
    "for cols in catCols:\n",
    "    df[cols] = en.fit_transform(df[cols])"
   ]
  },
  {
   "cell_type": "code",
   "execution_count": 12,
   "id": "ab7ac912",
   "metadata": {
    "execution": {
     "iopub.execute_input": "2022-08-18T20:02:25.402301Z",
     "iopub.status.busy": "2022-08-18T20:02:25.401548Z",
     "iopub.status.idle": "2022-08-18T20:02:25.414913Z",
     "shell.execute_reply": "2022-08-18T20:02:25.415441Z",
     "shell.execute_reply.started": "2022-08-18T19:49:44.485306Z"
    },
    "papermill": {
     "duration": 0.04502,
     "end_time": "2022-08-18T20:02:25.415642",
     "exception": false,
     "start_time": "2022-08-18T20:02:25.370622",
     "status": "completed"
    },
    "tags": []
   },
   "outputs": [
    {
     "data": {
      "text/html": [
       "<div>\n",
       "<style scoped>\n",
       "    .dataframe tbody tr th:only-of-type {\n",
       "        vertical-align: middle;\n",
       "    }\n",
       "\n",
       "    .dataframe tbody tr th {\n",
       "        vertical-align: top;\n",
       "    }\n",
       "\n",
       "    .dataframe thead th {\n",
       "        text-align: right;\n",
       "    }\n",
       "</style>\n",
       "<table border=\"1\" class=\"dataframe\">\n",
       "  <thead>\n",
       "    <tr style=\"text-align: right;\">\n",
       "      <th></th>\n",
       "      <th>Income</th>\n",
       "      <th>Age</th>\n",
       "      <th>Experience</th>\n",
       "      <th>Married/Single</th>\n",
       "      <th>House_Ownership</th>\n",
       "      <th>Car_Ownership</th>\n",
       "      <th>Profession</th>\n",
       "      <th>STATE</th>\n",
       "      <th>CURRENT_JOB_YRS</th>\n",
       "      <th>CURRENT_HOUSE_YRS</th>\n",
       "      <th>Risk_Flag</th>\n",
       "    </tr>\n",
       "  </thead>\n",
       "  <tbody>\n",
       "    <tr>\n",
       "      <th>0</th>\n",
       "      <td>1303834</td>\n",
       "      <td>23</td>\n",
       "      <td>3</td>\n",
       "      <td>1</td>\n",
       "      <td>2</td>\n",
       "      <td>0</td>\n",
       "      <td>33</td>\n",
       "      <td>13</td>\n",
       "      <td>3</td>\n",
       "      <td>13</td>\n",
       "      <td>0</td>\n",
       "    </tr>\n",
       "    <tr>\n",
       "      <th>1</th>\n",
       "      <td>7574516</td>\n",
       "      <td>40</td>\n",
       "      <td>10</td>\n",
       "      <td>1</td>\n",
       "      <td>2</td>\n",
       "      <td>0</td>\n",
       "      <td>43</td>\n",
       "      <td>14</td>\n",
       "      <td>9</td>\n",
       "      <td>13</td>\n",
       "      <td>0</td>\n",
       "    </tr>\n",
       "    <tr>\n",
       "      <th>2</th>\n",
       "      <td>3991815</td>\n",
       "      <td>66</td>\n",
       "      <td>4</td>\n",
       "      <td>0</td>\n",
       "      <td>2</td>\n",
       "      <td>0</td>\n",
       "      <td>47</td>\n",
       "      <td>12</td>\n",
       "      <td>4</td>\n",
       "      <td>10</td>\n",
       "      <td>0</td>\n",
       "    </tr>\n",
       "    <tr>\n",
       "      <th>3</th>\n",
       "      <td>6256451</td>\n",
       "      <td>41</td>\n",
       "      <td>2</td>\n",
       "      <td>1</td>\n",
       "      <td>2</td>\n",
       "      <td>1</td>\n",
       "      <td>43</td>\n",
       "      <td>17</td>\n",
       "      <td>2</td>\n",
       "      <td>12</td>\n",
       "      <td>1</td>\n",
       "    </tr>\n",
       "    <tr>\n",
       "      <th>4</th>\n",
       "      <td>5768871</td>\n",
       "      <td>47</td>\n",
       "      <td>11</td>\n",
       "      <td>1</td>\n",
       "      <td>2</td>\n",
       "      <td>0</td>\n",
       "      <td>11</td>\n",
       "      <td>22</td>\n",
       "      <td>3</td>\n",
       "      <td>14</td>\n",
       "      <td>1</td>\n",
       "    </tr>\n",
       "  </tbody>\n",
       "</table>\n",
       "</div>"
      ],
      "text/plain": [
       "    Income  Age  Experience  Married/Single  House_Ownership  Car_Ownership  \\\n",
       "0  1303834   23           3               1                2              0   \n",
       "1  7574516   40          10               1                2              0   \n",
       "2  3991815   66           4               0                2              0   \n",
       "3  6256451   41           2               1                2              1   \n",
       "4  5768871   47          11               1                2              0   \n",
       "\n",
       "   Profession  STATE  CURRENT_JOB_YRS  CURRENT_HOUSE_YRS  Risk_Flag  \n",
       "0          33     13                3                 13          0  \n",
       "1          43     14                9                 13          0  \n",
       "2          47     12                4                 10          0  \n",
       "3          43     17                2                 12          1  \n",
       "4          11     22                3                 14          1  "
      ]
     },
     "execution_count": 12,
     "metadata": {},
     "output_type": "execute_result"
    }
   ],
   "source": [
    "df.head()"
   ]
  },
  {
   "cell_type": "code",
   "execution_count": 13,
   "id": "42d783e6",
   "metadata": {
    "execution": {
     "iopub.execute_input": "2022-08-18T20:02:25.479001Z",
     "iopub.status.busy": "2022-08-18T20:02:25.478228Z",
     "iopub.status.idle": "2022-08-18T20:02:25.493609Z",
     "shell.execute_reply": "2022-08-18T20:02:25.494183Z",
     "shell.execute_reply.started": "2022-08-18T19:49:44.499162Z"
    },
    "papermill": {
     "duration": 0.050485,
     "end_time": "2022-08-18T20:02:25.494620",
     "exception": false,
     "start_time": "2022-08-18T20:02:25.444135",
     "status": "completed"
    },
    "tags": []
   },
   "outputs": [
    {
     "name": "stdout",
     "output_type": "stream",
     "text": [
      "<class 'pandas.core.frame.DataFrame'>\n",
      "RangeIndex: 252000 entries, 0 to 251999\n",
      "Data columns (total 11 columns):\n",
      " #   Column             Non-Null Count   Dtype\n",
      "---  ------             --------------   -----\n",
      " 0   Income             252000 non-null  int64\n",
      " 1   Age                252000 non-null  int64\n",
      " 2   Experience         252000 non-null  int64\n",
      " 3   Married/Single     252000 non-null  int64\n",
      " 4   House_Ownership    252000 non-null  int64\n",
      " 5   Car_Ownership      252000 non-null  int64\n",
      " 6   Profession         252000 non-null  int64\n",
      " 7   STATE              252000 non-null  int64\n",
      " 8   CURRENT_JOB_YRS    252000 non-null  int64\n",
      " 9   CURRENT_HOUSE_YRS  252000 non-null  int64\n",
      " 10  Risk_Flag          252000 non-null  int64\n",
      "dtypes: int64(11)\n",
      "memory usage: 21.1 MB\n"
     ]
    }
   ],
   "source": [
    "df.info()"
   ]
  },
  {
   "cell_type": "markdown",
   "id": "9318ea2a",
   "metadata": {
    "papermill": {
     "duration": 0.029438,
     "end_time": "2022-08-18T20:02:25.553870",
     "exception": false,
     "start_time": "2022-08-18T20:02:25.524432",
     "status": "completed"
    },
    "tags": []
   },
   "source": [
    "### Splitting The Data"
   ]
  },
  {
   "cell_type": "code",
   "execution_count": 14,
   "id": "edfe096b",
   "metadata": {
    "execution": {
     "iopub.execute_input": "2022-08-18T20:02:25.617441Z",
     "iopub.status.busy": "2022-08-18T20:02:25.616755Z",
     "iopub.status.idle": "2022-08-18T20:02:25.652661Z",
     "shell.execute_reply": "2022-08-18T20:02:25.653208Z",
     "shell.execute_reply.started": "2022-08-18T19:49:44.521757Z"
    },
    "papermill": {
     "duration": 0.070309,
     "end_time": "2022-08-18T20:02:25.653422",
     "exception": false,
     "start_time": "2022-08-18T20:02:25.583113",
     "status": "completed"
    },
    "tags": []
   },
   "outputs": [],
   "source": [
    "Y = df[\"Risk_Flag\"]\n",
    "X = df.drop(\"Risk_Flag\",axis = 1)"
   ]
  },
  {
   "cell_type": "code",
   "execution_count": 15,
   "id": "3b43d179",
   "metadata": {
    "execution": {
     "iopub.execute_input": "2022-08-18T20:02:25.718827Z",
     "iopub.status.busy": "2022-08-18T20:02:25.718145Z",
     "iopub.status.idle": "2022-08-18T20:02:25.729323Z",
     "shell.execute_reply": "2022-08-18T20:02:25.729889Z",
     "shell.execute_reply.started": "2022-08-18T19:49:44.553009Z"
    },
    "papermill": {
     "duration": 0.046967,
     "end_time": "2022-08-18T20:02:25.730093",
     "exception": false,
     "start_time": "2022-08-18T20:02:25.683126",
     "status": "completed"
    },
    "tags": []
   },
   "outputs": [
    {
     "data": {
      "text/html": [
       "<div>\n",
       "<style scoped>\n",
       "    .dataframe tbody tr th:only-of-type {\n",
       "        vertical-align: middle;\n",
       "    }\n",
       "\n",
       "    .dataframe tbody tr th {\n",
       "        vertical-align: top;\n",
       "    }\n",
       "\n",
       "    .dataframe thead th {\n",
       "        text-align: right;\n",
       "    }\n",
       "</style>\n",
       "<table border=\"1\" class=\"dataframe\">\n",
       "  <thead>\n",
       "    <tr style=\"text-align: right;\">\n",
       "      <th></th>\n",
       "      <th>Income</th>\n",
       "      <th>Age</th>\n",
       "      <th>Experience</th>\n",
       "      <th>Married/Single</th>\n",
       "      <th>House_Ownership</th>\n",
       "      <th>Car_Ownership</th>\n",
       "      <th>Profession</th>\n",
       "      <th>STATE</th>\n",
       "      <th>CURRENT_JOB_YRS</th>\n",
       "      <th>CURRENT_HOUSE_YRS</th>\n",
       "    </tr>\n",
       "  </thead>\n",
       "  <tbody>\n",
       "    <tr>\n",
       "      <th>0</th>\n",
       "      <td>1303834</td>\n",
       "      <td>23</td>\n",
       "      <td>3</td>\n",
       "      <td>1</td>\n",
       "      <td>2</td>\n",
       "      <td>0</td>\n",
       "      <td>33</td>\n",
       "      <td>13</td>\n",
       "      <td>3</td>\n",
       "      <td>13</td>\n",
       "    </tr>\n",
       "    <tr>\n",
       "      <th>1</th>\n",
       "      <td>7574516</td>\n",
       "      <td>40</td>\n",
       "      <td>10</td>\n",
       "      <td>1</td>\n",
       "      <td>2</td>\n",
       "      <td>0</td>\n",
       "      <td>43</td>\n",
       "      <td>14</td>\n",
       "      <td>9</td>\n",
       "      <td>13</td>\n",
       "    </tr>\n",
       "    <tr>\n",
       "      <th>2</th>\n",
       "      <td>3991815</td>\n",
       "      <td>66</td>\n",
       "      <td>4</td>\n",
       "      <td>0</td>\n",
       "      <td>2</td>\n",
       "      <td>0</td>\n",
       "      <td>47</td>\n",
       "      <td>12</td>\n",
       "      <td>4</td>\n",
       "      <td>10</td>\n",
       "    </tr>\n",
       "    <tr>\n",
       "      <th>3</th>\n",
       "      <td>6256451</td>\n",
       "      <td>41</td>\n",
       "      <td>2</td>\n",
       "      <td>1</td>\n",
       "      <td>2</td>\n",
       "      <td>1</td>\n",
       "      <td>43</td>\n",
       "      <td>17</td>\n",
       "      <td>2</td>\n",
       "      <td>12</td>\n",
       "    </tr>\n",
       "    <tr>\n",
       "      <th>4</th>\n",
       "      <td>5768871</td>\n",
       "      <td>47</td>\n",
       "      <td>11</td>\n",
       "      <td>1</td>\n",
       "      <td>2</td>\n",
       "      <td>0</td>\n",
       "      <td>11</td>\n",
       "      <td>22</td>\n",
       "      <td>3</td>\n",
       "      <td>14</td>\n",
       "    </tr>\n",
       "  </tbody>\n",
       "</table>\n",
       "</div>"
      ],
      "text/plain": [
       "    Income  Age  Experience  Married/Single  House_Ownership  Car_Ownership  \\\n",
       "0  1303834   23           3               1                2              0   \n",
       "1  7574516   40          10               1                2              0   \n",
       "2  3991815   66           4               0                2              0   \n",
       "3  6256451   41           2               1                2              1   \n",
       "4  5768871   47          11               1                2              0   \n",
       "\n",
       "   Profession  STATE  CURRENT_JOB_YRS  CURRENT_HOUSE_YRS  \n",
       "0          33     13                3                 13  \n",
       "1          43     14                9                 13  \n",
       "2          47     12                4                 10  \n",
       "3          43     17                2                 12  \n",
       "4          11     22                3                 14  "
      ]
     },
     "execution_count": 15,
     "metadata": {},
     "output_type": "execute_result"
    }
   ],
   "source": [
    "X.head()"
   ]
  },
  {
   "cell_type": "code",
   "execution_count": 16,
   "id": "89972700",
   "metadata": {
    "execution": {
     "iopub.execute_input": "2022-08-18T20:02:25.792517Z",
     "iopub.status.busy": "2022-08-18T20:02:25.791739Z",
     "iopub.status.idle": "2022-08-18T20:02:25.798247Z",
     "shell.execute_reply": "2022-08-18T20:02:25.798800Z",
     "shell.execute_reply.started": "2022-08-18T19:49:44.565989Z"
    },
    "papermill": {
     "duration": 0.038429,
     "end_time": "2022-08-18T20:02:25.799038",
     "exception": false,
     "start_time": "2022-08-18T20:02:25.760609",
     "status": "completed"
    },
    "tags": []
   },
   "outputs": [
    {
     "data": {
      "text/plain": [
       "0    0\n",
       "1    0\n",
       "2    0\n",
       "3    1\n",
       "4    1\n",
       "Name: Risk_Flag, dtype: int64"
      ]
     },
     "execution_count": 16,
     "metadata": {},
     "output_type": "execute_result"
    }
   ],
   "source": [
    "Y.head()"
   ]
  },
  {
   "cell_type": "code",
   "execution_count": 17,
   "id": "bd5f9bc5",
   "metadata": {
    "execution": {
     "iopub.execute_input": "2022-08-18T20:02:25.865630Z",
     "iopub.status.busy": "2022-08-18T20:02:25.864915Z",
     "iopub.status.idle": "2022-08-18T20:02:25.870066Z",
     "shell.execute_reply": "2022-08-18T20:02:25.870587Z",
     "shell.execute_reply.started": "2022-08-18T19:49:44.578566Z"
    },
    "papermill": {
     "duration": 0.040255,
     "end_time": "2022-08-18T20:02:25.870788",
     "exception": false,
     "start_time": "2022-08-18T20:02:25.830533",
     "status": "completed"
    },
    "tags": []
   },
   "outputs": [],
   "source": [
    "Y=pd.DataFrame(Y)"
   ]
  },
  {
   "cell_type": "code",
   "execution_count": 18,
   "id": "c3aa16b8",
   "metadata": {
    "execution": {
     "iopub.execute_input": "2022-08-18T20:02:25.941223Z",
     "iopub.status.busy": "2022-08-18T20:02:25.940211Z",
     "iopub.status.idle": "2022-08-18T20:02:25.943774Z",
     "shell.execute_reply": "2022-08-18T20:02:25.944423Z",
     "shell.execute_reply.started": "2022-08-18T19:49:44.587982Z"
    },
    "papermill": {
     "duration": 0.043202,
     "end_time": "2022-08-18T20:02:25.944604",
     "exception": false,
     "start_time": "2022-08-18T20:02:25.901402",
     "status": "completed"
    },
    "tags": []
   },
   "outputs": [
    {
     "data": {
      "text/html": [
       "<div>\n",
       "<style scoped>\n",
       "    .dataframe tbody tr th:only-of-type {\n",
       "        vertical-align: middle;\n",
       "    }\n",
       "\n",
       "    .dataframe tbody tr th {\n",
       "        vertical-align: top;\n",
       "    }\n",
       "\n",
       "    .dataframe thead th {\n",
       "        text-align: right;\n",
       "    }\n",
       "</style>\n",
       "<table border=\"1\" class=\"dataframe\">\n",
       "  <thead>\n",
       "    <tr style=\"text-align: right;\">\n",
       "      <th></th>\n",
       "      <th>Risk_Flag</th>\n",
       "    </tr>\n",
       "  </thead>\n",
       "  <tbody>\n",
       "    <tr>\n",
       "      <th>0</th>\n",
       "      <td>0</td>\n",
       "    </tr>\n",
       "    <tr>\n",
       "      <th>1</th>\n",
       "      <td>0</td>\n",
       "    </tr>\n",
       "    <tr>\n",
       "      <th>2</th>\n",
       "      <td>0</td>\n",
       "    </tr>\n",
       "    <tr>\n",
       "      <th>3</th>\n",
       "      <td>1</td>\n",
       "    </tr>\n",
       "    <tr>\n",
       "      <th>4</th>\n",
       "      <td>1</td>\n",
       "    </tr>\n",
       "  </tbody>\n",
       "</table>\n",
       "</div>"
      ],
      "text/plain": [
       "   Risk_Flag\n",
       "0          0\n",
       "1          0\n",
       "2          0\n",
       "3          1\n",
       "4          1"
      ]
     },
     "execution_count": 18,
     "metadata": {},
     "output_type": "execute_result"
    }
   ],
   "source": [
    "Y.head()"
   ]
  },
  {
   "cell_type": "code",
   "execution_count": 19,
   "id": "99bb49ae",
   "metadata": {
    "execution": {
     "iopub.execute_input": "2022-08-18T20:02:26.015716Z",
     "iopub.status.busy": "2022-08-18T20:02:26.013706Z",
     "iopub.status.idle": "2022-08-18T20:02:26.022939Z",
     "shell.execute_reply": "2022-08-18T20:02:26.022384Z",
     "shell.execute_reply.started": "2022-08-18T19:49:44.601304Z"
    },
    "papermill": {
     "duration": 0.046909,
     "end_time": "2022-08-18T20:02:26.023129",
     "exception": false,
     "start_time": "2022-08-18T20:02:25.976220",
     "status": "completed"
    },
    "tags": []
   },
   "outputs": [
    {
     "data": {
      "text/plain": [
       "(252000, 10)"
      ]
     },
     "execution_count": 19,
     "metadata": {},
     "output_type": "execute_result"
    }
   ],
   "source": [
    "X.shape"
   ]
  },
  {
   "cell_type": "code",
   "execution_count": 20,
   "id": "20f624ba",
   "metadata": {
    "execution": {
     "iopub.execute_input": "2022-08-18T20:02:26.093878Z",
     "iopub.status.busy": "2022-08-18T20:02:26.093175Z",
     "iopub.status.idle": "2022-08-18T20:02:26.095840Z",
     "shell.execute_reply": "2022-08-18T20:02:26.096376Z",
     "shell.execute_reply.started": "2022-08-18T19:49:44.615270Z"
    },
    "papermill": {
     "duration": 0.042018,
     "end_time": "2022-08-18T20:02:26.096565",
     "exception": false,
     "start_time": "2022-08-18T20:02:26.054547",
     "status": "completed"
    },
    "tags": []
   },
   "outputs": [
    {
     "data": {
      "text/plain": [
       "(252000, 1)"
      ]
     },
     "execution_count": 20,
     "metadata": {},
     "output_type": "execute_result"
    }
   ],
   "source": [
    "Y.shape"
   ]
  },
  {
   "cell_type": "markdown",
   "id": "610114e5",
   "metadata": {
    "papermill": {
     "duration": 0.030744,
     "end_time": "2022-08-18T20:02:26.157991",
     "exception": false,
     "start_time": "2022-08-18T20:02:26.127247",
     "status": "completed"
    },
    "tags": []
   },
   "source": [
    "### Splitting Data as Test Validation "
   ]
  },
  {
   "cell_type": "code",
   "execution_count": 21,
   "id": "ffac4bcf",
   "metadata": {
    "execution": {
     "iopub.execute_input": "2022-08-18T20:02:26.233573Z",
     "iopub.status.busy": "2022-08-18T20:02:26.232684Z",
     "iopub.status.idle": "2022-08-18T20:02:26.294404Z",
     "shell.execute_reply": "2022-08-18T20:02:26.293814Z",
     "shell.execute_reply.started": "2022-08-18T19:49:44.625726Z"
    },
    "papermill": {
     "duration": 0.100767,
     "end_time": "2022-08-18T20:02:26.294583",
     "exception": false,
     "start_time": "2022-08-18T20:02:26.193816",
     "status": "completed"
    },
    "tags": []
   },
   "outputs": [],
   "source": [
    "X_train,X_test,Y_train,Y_test=train_test_split(X,Y,train_size=0.8,test_size=0.2,random_state=0)"
   ]
  },
  {
   "cell_type": "code",
   "execution_count": 22,
   "id": "6a212a90",
   "metadata": {
    "execution": {
     "iopub.execute_input": "2022-08-18T20:02:26.361000Z",
     "iopub.status.busy": "2022-08-18T20:02:26.360040Z",
     "iopub.status.idle": "2022-08-18T20:02:26.370237Z",
     "shell.execute_reply": "2022-08-18T20:02:26.369666Z",
     "shell.execute_reply.started": "2022-08-18T19:49:44.678327Z"
    },
    "papermill": {
     "duration": 0.045194,
     "end_time": "2022-08-18T20:02:26.370397",
     "exception": false,
     "start_time": "2022-08-18T20:02:26.325203",
     "status": "completed"
    },
    "tags": []
   },
   "outputs": [
    {
     "data": {
      "text/html": [
       "<div>\n",
       "<style scoped>\n",
       "    .dataframe tbody tr th:only-of-type {\n",
       "        vertical-align: middle;\n",
       "    }\n",
       "\n",
       "    .dataframe tbody tr th {\n",
       "        vertical-align: top;\n",
       "    }\n",
       "\n",
       "    .dataframe thead th {\n",
       "        text-align: right;\n",
       "    }\n",
       "</style>\n",
       "<table border=\"1\" class=\"dataframe\">\n",
       "  <thead>\n",
       "    <tr style=\"text-align: right;\">\n",
       "      <th></th>\n",
       "      <th>Risk_Flag</th>\n",
       "    </tr>\n",
       "  </thead>\n",
       "  <tbody>\n",
       "    <tr>\n",
       "      <th>223480</th>\n",
       "      <td>0</td>\n",
       "    </tr>\n",
       "    <tr>\n",
       "      <th>177039</th>\n",
       "      <td>1</td>\n",
       "    </tr>\n",
       "    <tr>\n",
       "      <th>85476</th>\n",
       "      <td>0</td>\n",
       "    </tr>\n",
       "    <tr>\n",
       "      <th>243408</th>\n",
       "      <td>0</td>\n",
       "    </tr>\n",
       "    <tr>\n",
       "      <th>116275</th>\n",
       "      <td>0</td>\n",
       "    </tr>\n",
       "  </tbody>\n",
       "</table>\n",
       "</div>"
      ],
      "text/plain": [
       "        Risk_Flag\n",
       "223480          0\n",
       "177039          1\n",
       "85476           0\n",
       "243408          0\n",
       "116275          0"
      ]
     },
     "execution_count": 22,
     "metadata": {},
     "output_type": "execute_result"
    }
   ],
   "source": [
    "Y_train.head()"
   ]
  },
  {
   "cell_type": "markdown",
   "id": "b7321a24",
   "metadata": {
    "papermill": {
     "duration": 0.031072,
     "end_time": "2022-08-18T20:02:26.434305",
     "exception": false,
     "start_time": "2022-08-18T20:02:26.403233",
     "status": "completed"
    },
    "tags": []
   },
   "source": [
    "### XGB Classifier"
   ]
  },
  {
   "cell_type": "code",
   "execution_count": 23,
   "id": "61a6778d",
   "metadata": {
    "execution": {
     "iopub.execute_input": "2022-08-18T20:02:26.499526Z",
     "iopub.status.busy": "2022-08-18T20:02:26.498743Z",
     "iopub.status.idle": "2022-08-18T20:03:57.492823Z",
     "shell.execute_reply": "2022-08-18T20:03:57.493620Z",
     "shell.execute_reply.started": "2022-08-18T19:49:44.688056Z"
    },
    "papermill": {
     "duration": 91.029897,
     "end_time": "2022-08-18T20:03:57.494349",
     "exception": false,
     "start_time": "2022-08-18T20:02:26.464452",
     "status": "completed"
    },
    "tags": []
   },
   "outputs": [
    {
     "name": "stdout",
     "output_type": "stream",
     "text": [
      "Accuracy_score: 0.8971428571428571\n"
     ]
    }
   ],
   "source": [
    "from xgboost import XGBClassifier\n",
    "from sklearn.model_selection import cross_val_score\n",
    "from sklearn.metrics import confusion_matrix,precision_score,recall_score,f1_score,accuracy_score,roc_auc_score\n",
    "\n",
    "clf=XGBClassifier(learning_rate=0.1,\n",
    "                 n_estimators=1000,\n",
    "                 use_label_encoder=False,\n",
    "                random_state=42)\n",
    "clf.fit(X_train,Y_train,eval_metric='logloss')\n",
    "y_predict=clf.predict(X_test)\n",
    "\n",
    "print(\"Accuracy_score:\",str(accuracy_score(Y_test,y_predict)))\n",
    "\n"
   ]
  },
  {
   "cell_type": "code",
   "execution_count": 24,
   "id": "52ff2d8d",
   "metadata": {
    "execution": {
     "iopub.execute_input": "2022-08-18T20:03:57.569933Z",
     "iopub.status.busy": "2022-08-18T20:03:57.568750Z",
     "iopub.status.idle": "2022-08-18T20:03:57.624946Z",
     "shell.execute_reply": "2022-08-18T20:03:57.625729Z",
     "shell.execute_reply.started": "2022-08-18T19:51:04.958250Z"
    },
    "papermill": {
     "duration": 0.097965,
     "end_time": "2022-08-18T20:03:57.625936",
     "exception": false,
     "start_time": "2022-08-18T20:03:57.527971",
     "status": "completed"
    },
    "tags": []
   },
   "outputs": [
    {
     "name": "stdout",
     "output_type": "stream",
     "text": [
      "F1 Score:0.4862239841427156\n",
      "Recall Score:0.39944634424360853\n",
      "ROC AUC Score : 0.6828226547129156\n"
     ]
    }
   ],
   "source": [
    "print(\"F1 Score:\"+str(f1_score(Y_test,y_predict)))\n",
    "print(\"Recall Score:\"+str(recall_score(Y_test,y_predict)))\n",
    "print(\"ROC AUC Score : \"+str(roc_auc_score(Y_test,y_predict)))"
   ]
  },
  {
   "cell_type": "markdown",
   "id": "8f89182d",
   "metadata": {
    "papermill": {
     "duration": 0.032036,
     "end_time": "2022-08-18T20:03:57.691846",
     "exception": false,
     "start_time": "2022-08-18T20:03:57.659810",
     "status": "completed"
    },
    "tags": []
   },
   "source": [
    "### Decision Tree Classifier"
   ]
  },
  {
   "cell_type": "code",
   "execution_count": 25,
   "id": "45c41daa",
   "metadata": {
    "execution": {
     "iopub.execute_input": "2022-08-18T20:03:57.760851Z",
     "iopub.status.busy": "2022-08-18T20:03:57.760158Z",
     "iopub.status.idle": "2022-08-18T20:04:00.052825Z",
     "shell.execute_reply": "2022-08-18T20:04:00.051940Z",
     "shell.execute_reply.started": "2022-08-18T19:51:05.011946Z"
    },
    "papermill": {
     "duration": 2.327047,
     "end_time": "2022-08-18T20:04:00.053018",
     "exception": false,
     "start_time": "2022-08-18T20:03:57.725971",
     "status": "completed"
    },
    "tags": []
   },
   "outputs": [
    {
     "name": "stderr",
     "output_type": "stream",
     "text": [
      "/opt/conda/lib/python3.7/site-packages/sklearn/utils/deprecation.py:143: FutureWarning: The sklearn.tree.tree module is  deprecated in version 0.22 and will be removed in version 0.24. The corresponding classes / functions should instead be imported from sklearn.tree. Anything that cannot be imported from sklearn.tree is now part of the private API.\n",
      "  warnings.warn(message, FutureWarning)\n"
     ]
    },
    {
     "name": "stdout",
     "output_type": "stream",
     "text": [
      "accuracy_score: 0.8818650793650794\n"
     ]
    }
   ],
   "source": [
    "from sklearn.tree import tree\n",
    "dtc = tree.DecisionTreeClassifier()\n",
    "dtc.fit(X_train, Y_train)\n",
    "predsdtc = dtc.predict(X_test)\n",
    "print(\"accuracy_score: \" + str(accuracy_score(Y_test, predsdtc)))"
   ]
  },
  {
   "cell_type": "code",
   "execution_count": 26,
   "id": "34bbd1d8",
   "metadata": {
    "execution": {
     "iopub.execute_input": "2022-08-18T20:04:00.124191Z",
     "iopub.status.busy": "2022-08-18T20:04:00.123229Z",
     "iopub.status.idle": "2022-08-18T20:04:00.147334Z",
     "shell.execute_reply": "2022-08-18T20:04:00.148040Z",
     "shell.execute_reply.started": "2022-08-18T19:51:06.708016Z"
    },
    "papermill": {
     "duration": 0.062704,
     "end_time": "2022-08-18T20:04:00.148263",
     "exception": false,
     "start_time": "2022-08-18T20:04:00.085559",
     "status": "completed"
    },
    "tags": []
   },
   "outputs": [
    {
     "name": "stdout",
     "output_type": "stream",
     "text": [
      "F1 score:0.5366536964980544\n"
     ]
    }
   ],
   "source": [
    "print(\"F1 score:\"+str(f1_score(Y_test,predsdtc)))"
   ]
  },
  {
   "cell_type": "code",
   "execution_count": 27,
   "id": "0083408a",
   "metadata": {
    "execution": {
     "iopub.execute_input": "2022-08-18T20:04:00.223794Z",
     "iopub.status.busy": "2022-08-18T20:04:00.221195Z",
     "iopub.status.idle": "2022-08-18T20:04:00.240869Z",
     "shell.execute_reply": "2022-08-18T20:04:00.241495Z",
     "shell.execute_reply.started": "2022-08-18T19:51:06.733326Z"
    },
    "papermill": {
     "duration": 0.0581,
     "end_time": "2022-08-18T20:04:00.241692",
     "exception": false,
     "start_time": "2022-08-18T20:04:00.183592",
     "status": "completed"
    },
    "tags": []
   },
   "outputs": [
    {
     "name": "stdout",
     "output_type": "stream",
     "text": [
      "ROC AUC SCORE0.7438960717232124\n"
     ]
    }
   ],
   "source": [
    "print(\"ROC AUC SCORE\"+str(roc_auc_score(Y_test,predsdtc)))"
   ]
  },
  {
   "cell_type": "markdown",
   "id": "b62075be",
   "metadata": {
    "papermill": {
     "duration": 0.040544,
     "end_time": "2022-08-18T20:04:00.322000",
     "exception": false,
     "start_time": "2022-08-18T20:04:00.281456",
     "status": "completed"
    },
    "tags": []
   },
   "source": []
  },
  {
   "cell_type": "code",
   "execution_count": null,
   "id": "bd1ee0eb",
   "metadata": {
    "papermill": {
     "duration": 0.034575,
     "end_time": "2022-08-18T20:04:00.395457",
     "exception": false,
     "start_time": "2022-08-18T20:04:00.360882",
     "status": "completed"
    },
    "tags": []
   },
   "outputs": [],
   "source": []
  }
 ],
 "metadata": {
  "kernelspec": {
   "display_name": "Python 3",
   "language": "python",
   "name": "python3"
  },
  "language_info": {
   "codemirror_mode": {
    "name": "ipython",
    "version": 3
   },
   "file_extension": ".py",
   "mimetype": "text/x-python",
   "name": "python",
   "nbconvert_exporter": "python",
   "pygments_lexer": "ipython3",
   "version": "3.7.10"
  },
  "papermill": {
   "default_parameters": {},
   "duration": 112.022196,
   "end_time": "2022-08-18T20:04:02.046339",
   "environment_variables": {},
   "exception": null,
   "input_path": "__notebook__.ipynb",
   "output_path": "__notebook__.ipynb",
   "parameters": {},
   "start_time": "2022-08-18T20:02:10.024143",
   "version": "2.3.3"
  }
 },
 "nbformat": 4,
 "nbformat_minor": 5
}
