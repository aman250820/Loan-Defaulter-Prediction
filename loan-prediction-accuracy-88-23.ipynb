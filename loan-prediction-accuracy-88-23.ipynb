{
 "cells": [
  {
   "cell_type": "code",
   "execution_count": 1,
   "id": "f8a6a88e",
   "metadata": {
    "_cell_guid": "b1076dfc-b9ad-4769-8c92-a6c4dae69d19",
    "_uuid": "8f2839f25d086af736a60e9eeb907d3b93b6e0e5",
    "execution": {
     "iopub.execute_input": "2022-08-19T08:45:58.302525Z",
     "iopub.status.busy": "2022-08-19T08:45:58.301904Z",
     "iopub.status.idle": "2022-08-19T08:45:58.314324Z",
     "shell.execute_reply": "2022-08-19T08:45:58.313508Z",
     "shell.execute_reply.started": "2022-08-19T08:44:10.856776Z"
    },
    "papermill": {
     "duration": 0.04824,
     "end_time": "2022-08-19T08:45:58.314511",
     "exception": false,
     "start_time": "2022-08-19T08:45:58.266271",
     "status": "completed"
    },
    "tags": []
   },
   "outputs": [
    {
     "name": "stdout",
     "output_type": "stream",
     "text": [
      "/kaggle/input/loan-prediction-based-on-customer-behavior/Test Data.csv\n",
      "/kaggle/input/loan-prediction-based-on-customer-behavior/Training Data.csv\n",
      "/kaggle/input/loan-prediction-based-on-customer-behavior/Sample Prediction Dataset.csv\n"
     ]
    }
   ],
   "source": [
    "\n",
    "\n",
    "import numpy as np # linear algebra\n",
    "import pandas as pd # data processing, CSV file I/O (e.g. pd.read_csv)\n",
    "\n",
    "\n",
    "import os\n",
    "for dirname, _, filenames in os.walk('/kaggle/input'):\n",
    "    for filename in filenames:\n",
    "        print(os.path.join(dirname, filename))\n",
    "\n"
   ]
  },
  {
   "cell_type": "code",
   "execution_count": 2,
   "id": "76ef0ae4",
   "metadata": {
    "execution": {
     "iopub.execute_input": "2022-08-19T08:45:58.369474Z",
     "iopub.status.busy": "2022-08-19T08:45:58.368561Z",
     "iopub.status.idle": "2022-08-19T08:46:00.996095Z",
     "shell.execute_reply": "2022-08-19T08:46:00.995466Z",
     "shell.execute_reply.started": "2022-08-19T08:44:10.893689Z"
    },
    "papermill": {
     "duration": 2.65731,
     "end_time": "2022-08-19T08:46:00.996259",
     "exception": false,
     "start_time": "2022-08-19T08:45:58.338949",
     "status": "completed"
    },
    "tags": []
   },
   "outputs": [],
   "source": [
    "import numpy as np\n",
    "import pandas as pd \n",
    "import matplotlib.pyplot as plt\n",
    "import plotly.express as px\n",
    "import seaborn as sns\n",
    "%matplotlib inline\n",
    "from sklearn.preprocessing import LabelEncoder\n",
    "from sklearn.model_selection import train_test_split\n",
    "from sklearn.linear_model import LinearRegression\n",
    "from sklearn.ensemble import RandomForestRegressor\n",
    "import sklearn.metrics as metrics\n",
    "import os"
   ]
  },
  {
   "cell_type": "markdown",
   "id": "95350ea0",
   "metadata": {
    "papermill": {
     "duration": 0.023546,
     "end_time": "2022-08-19T08:46:01.043263",
     "exception": false,
     "start_time": "2022-08-19T08:46:01.019717",
     "status": "completed"
    },
    "tags": []
   },
   "source": [
    "### Reading Data"
   ]
  },
  {
   "cell_type": "code",
   "execution_count": 3,
   "id": "6301c28a",
   "metadata": {
    "execution": {
     "iopub.execute_input": "2022-08-19T08:46:01.097543Z",
     "iopub.status.busy": "2022-08-19T08:46:01.096871Z",
     "iopub.status.idle": "2022-08-19T08:46:01.770443Z",
     "shell.execute_reply": "2022-08-19T08:46:01.769103Z",
     "shell.execute_reply.started": "2022-08-19T08:44:13.441995Z"
    },
    "papermill": {
     "duration": 0.702698,
     "end_time": "2022-08-19T08:46:01.770611",
     "exception": false,
     "start_time": "2022-08-19T08:46:01.067913",
     "status": "completed"
    },
    "tags": []
   },
   "outputs": [
    {
     "data": {
      "text/html": [
       "<div>\n",
       "<style scoped>\n",
       "    .dataframe tbody tr th:only-of-type {\n",
       "        vertical-align: middle;\n",
       "    }\n",
       "\n",
       "    .dataframe tbody tr th {\n",
       "        vertical-align: top;\n",
       "    }\n",
       "\n",
       "    .dataframe thead th {\n",
       "        text-align: right;\n",
       "    }\n",
       "</style>\n",
       "<table border=\"1\" class=\"dataframe\">\n",
       "  <thead>\n",
       "    <tr style=\"text-align: right;\">\n",
       "      <th></th>\n",
       "      <th>Id</th>\n",
       "      <th>Income</th>\n",
       "      <th>Age</th>\n",
       "      <th>Experience</th>\n",
       "      <th>Married/Single</th>\n",
       "      <th>House_Ownership</th>\n",
       "      <th>Car_Ownership</th>\n",
       "      <th>Profession</th>\n",
       "      <th>CITY</th>\n",
       "      <th>STATE</th>\n",
       "      <th>CURRENT_JOB_YRS</th>\n",
       "      <th>CURRENT_HOUSE_YRS</th>\n",
       "      <th>Risk_Flag</th>\n",
       "    </tr>\n",
       "  </thead>\n",
       "  <tbody>\n",
       "    <tr>\n",
       "      <th>0</th>\n",
       "      <td>1</td>\n",
       "      <td>1303834</td>\n",
       "      <td>23</td>\n",
       "      <td>3</td>\n",
       "      <td>single</td>\n",
       "      <td>rented</td>\n",
       "      <td>no</td>\n",
       "      <td>Mechanical_engineer</td>\n",
       "      <td>Rewa</td>\n",
       "      <td>Madhya_Pradesh</td>\n",
       "      <td>3</td>\n",
       "      <td>13</td>\n",
       "      <td>0</td>\n",
       "    </tr>\n",
       "    <tr>\n",
       "      <th>1</th>\n",
       "      <td>2</td>\n",
       "      <td>7574516</td>\n",
       "      <td>40</td>\n",
       "      <td>10</td>\n",
       "      <td>single</td>\n",
       "      <td>rented</td>\n",
       "      <td>no</td>\n",
       "      <td>Software_Developer</td>\n",
       "      <td>Parbhani</td>\n",
       "      <td>Maharashtra</td>\n",
       "      <td>9</td>\n",
       "      <td>13</td>\n",
       "      <td>0</td>\n",
       "    </tr>\n",
       "    <tr>\n",
       "      <th>2</th>\n",
       "      <td>3</td>\n",
       "      <td>3991815</td>\n",
       "      <td>66</td>\n",
       "      <td>4</td>\n",
       "      <td>married</td>\n",
       "      <td>rented</td>\n",
       "      <td>no</td>\n",
       "      <td>Technical_writer</td>\n",
       "      <td>Alappuzha</td>\n",
       "      <td>Kerala</td>\n",
       "      <td>4</td>\n",
       "      <td>10</td>\n",
       "      <td>0</td>\n",
       "    </tr>\n",
       "    <tr>\n",
       "      <th>3</th>\n",
       "      <td>4</td>\n",
       "      <td>6256451</td>\n",
       "      <td>41</td>\n",
       "      <td>2</td>\n",
       "      <td>single</td>\n",
       "      <td>rented</td>\n",
       "      <td>yes</td>\n",
       "      <td>Software_Developer</td>\n",
       "      <td>Bhubaneswar</td>\n",
       "      <td>Odisha</td>\n",
       "      <td>2</td>\n",
       "      <td>12</td>\n",
       "      <td>1</td>\n",
       "    </tr>\n",
       "    <tr>\n",
       "      <th>4</th>\n",
       "      <td>5</td>\n",
       "      <td>5768871</td>\n",
       "      <td>47</td>\n",
       "      <td>11</td>\n",
       "      <td>single</td>\n",
       "      <td>rented</td>\n",
       "      <td>no</td>\n",
       "      <td>Civil_servant</td>\n",
       "      <td>Tiruchirappalli[10]</td>\n",
       "      <td>Tamil_Nadu</td>\n",
       "      <td>3</td>\n",
       "      <td>14</td>\n",
       "      <td>1</td>\n",
       "    </tr>\n",
       "  </tbody>\n",
       "</table>\n",
       "</div>"
      ],
      "text/plain": [
       "   Id   Income  Age  Experience Married/Single House_Ownership Car_Ownership  \\\n",
       "0   1  1303834   23           3         single          rented            no   \n",
       "1   2  7574516   40          10         single          rented            no   \n",
       "2   3  3991815   66           4        married          rented            no   \n",
       "3   4  6256451   41           2         single          rented           yes   \n",
       "4   5  5768871   47          11         single          rented            no   \n",
       "\n",
       "            Profession                 CITY           STATE  CURRENT_JOB_YRS  \\\n",
       "0  Mechanical_engineer                 Rewa  Madhya_Pradesh                3   \n",
       "1   Software_Developer             Parbhani     Maharashtra                9   \n",
       "2     Technical_writer            Alappuzha          Kerala                4   \n",
       "3   Software_Developer          Bhubaneswar          Odisha                2   \n",
       "4        Civil_servant  Tiruchirappalli[10]      Tamil_Nadu                3   \n",
       "\n",
       "   CURRENT_HOUSE_YRS  Risk_Flag  \n",
       "0                 13          0  \n",
       "1                 13          0  \n",
       "2                 10          0  \n",
       "3                 12          1  \n",
       "4                 14          1  "
      ]
     },
     "execution_count": 3,
     "metadata": {},
     "output_type": "execute_result"
    }
   ],
   "source": [
    "df=pd.read_csv('/kaggle/input/loan-prediction-based-on-customer-behavior/Training Data.csv')\n",
    "df.head()"
   ]
  },
  {
   "cell_type": "markdown",
   "id": "8e7e593c",
   "metadata": {
    "papermill": {
     "duration": 0.023392,
     "end_time": "2022-08-19T08:46:01.820518",
     "exception": false,
     "start_time": "2022-08-19T08:46:01.797126",
     "status": "completed"
    },
    "tags": []
   },
   "source": [
    "### Preprocessing The Data"
   ]
  },
  {
   "cell_type": "code",
   "execution_count": 4,
   "id": "d4879cb3",
   "metadata": {
    "execution": {
     "iopub.execute_input": "2022-08-19T08:46:01.876575Z",
     "iopub.status.busy": "2022-08-19T08:46:01.875831Z",
     "iopub.status.idle": "2022-08-19T08:46:01.916077Z",
     "shell.execute_reply": "2022-08-19T08:46:01.915510Z",
     "shell.execute_reply.started": "2022-08-19T08:44:13.986677Z"
    },
    "papermill": {
     "duration": 0.071909,
     "end_time": "2022-08-19T08:46:01.916223",
     "exception": false,
     "start_time": "2022-08-19T08:46:01.844314",
     "status": "completed"
    },
    "tags": []
   },
   "outputs": [
    {
     "data": {
      "text/html": [
       "<div>\n",
       "<style scoped>\n",
       "    .dataframe tbody tr th:only-of-type {\n",
       "        vertical-align: middle;\n",
       "    }\n",
       "\n",
       "    .dataframe tbody tr th {\n",
       "        vertical-align: top;\n",
       "    }\n",
       "\n",
       "    .dataframe thead th {\n",
       "        text-align: right;\n",
       "    }\n",
       "</style>\n",
       "<table border=\"1\" class=\"dataframe\">\n",
       "  <thead>\n",
       "    <tr style=\"text-align: right;\">\n",
       "      <th></th>\n",
       "      <th>Income</th>\n",
       "      <th>Age</th>\n",
       "      <th>Experience</th>\n",
       "      <th>Married/Single</th>\n",
       "      <th>House_Ownership</th>\n",
       "      <th>Car_Ownership</th>\n",
       "      <th>Profession</th>\n",
       "      <th>CITY</th>\n",
       "      <th>STATE</th>\n",
       "      <th>CURRENT_JOB_YRS</th>\n",
       "      <th>CURRENT_HOUSE_YRS</th>\n",
       "      <th>Risk_Flag</th>\n",
       "    </tr>\n",
       "  </thead>\n",
       "  <tbody>\n",
       "    <tr>\n",
       "      <th>0</th>\n",
       "      <td>1303834</td>\n",
       "      <td>23</td>\n",
       "      <td>3</td>\n",
       "      <td>single</td>\n",
       "      <td>rented</td>\n",
       "      <td>no</td>\n",
       "      <td>Mechanical_engineer</td>\n",
       "      <td>Rewa</td>\n",
       "      <td>Madhya_Pradesh</td>\n",
       "      <td>3</td>\n",
       "      <td>13</td>\n",
       "      <td>0</td>\n",
       "    </tr>\n",
       "    <tr>\n",
       "      <th>1</th>\n",
       "      <td>7574516</td>\n",
       "      <td>40</td>\n",
       "      <td>10</td>\n",
       "      <td>single</td>\n",
       "      <td>rented</td>\n",
       "      <td>no</td>\n",
       "      <td>Software_Developer</td>\n",
       "      <td>Parbhani</td>\n",
       "      <td>Maharashtra</td>\n",
       "      <td>9</td>\n",
       "      <td>13</td>\n",
       "      <td>0</td>\n",
       "    </tr>\n",
       "    <tr>\n",
       "      <th>2</th>\n",
       "      <td>3991815</td>\n",
       "      <td>66</td>\n",
       "      <td>4</td>\n",
       "      <td>married</td>\n",
       "      <td>rented</td>\n",
       "      <td>no</td>\n",
       "      <td>Technical_writer</td>\n",
       "      <td>Alappuzha</td>\n",
       "      <td>Kerala</td>\n",
       "      <td>4</td>\n",
       "      <td>10</td>\n",
       "      <td>0</td>\n",
       "    </tr>\n",
       "    <tr>\n",
       "      <th>3</th>\n",
       "      <td>6256451</td>\n",
       "      <td>41</td>\n",
       "      <td>2</td>\n",
       "      <td>single</td>\n",
       "      <td>rented</td>\n",
       "      <td>yes</td>\n",
       "      <td>Software_Developer</td>\n",
       "      <td>Bhubaneswar</td>\n",
       "      <td>Odisha</td>\n",
       "      <td>2</td>\n",
       "      <td>12</td>\n",
       "      <td>1</td>\n",
       "    </tr>\n",
       "    <tr>\n",
       "      <th>4</th>\n",
       "      <td>5768871</td>\n",
       "      <td>47</td>\n",
       "      <td>11</td>\n",
       "      <td>single</td>\n",
       "      <td>rented</td>\n",
       "      <td>no</td>\n",
       "      <td>Civil_servant</td>\n",
       "      <td>Tiruchirappalli[10]</td>\n",
       "      <td>Tamil_Nadu</td>\n",
       "      <td>3</td>\n",
       "      <td>14</td>\n",
       "      <td>1</td>\n",
       "    </tr>\n",
       "  </tbody>\n",
       "</table>\n",
       "</div>"
      ],
      "text/plain": [
       "    Income  Age  Experience Married/Single House_Ownership Car_Ownership  \\\n",
       "0  1303834   23           3         single          rented            no   \n",
       "1  7574516   40          10         single          rented            no   \n",
       "2  3991815   66           4        married          rented            no   \n",
       "3  6256451   41           2         single          rented           yes   \n",
       "4  5768871   47          11         single          rented            no   \n",
       "\n",
       "            Profession                 CITY           STATE  CURRENT_JOB_YRS  \\\n",
       "0  Mechanical_engineer                 Rewa  Madhya_Pradesh                3   \n",
       "1   Software_Developer             Parbhani     Maharashtra                9   \n",
       "2     Technical_writer            Alappuzha          Kerala                4   \n",
       "3   Software_Developer          Bhubaneswar          Odisha                2   \n",
       "4        Civil_servant  Tiruchirappalli[10]      Tamil_Nadu                3   \n",
       "\n",
       "   CURRENT_HOUSE_YRS  Risk_Flag  \n",
       "0                 13          0  \n",
       "1                 13          0  \n",
       "2                 10          0  \n",
       "3                 12          1  \n",
       "4                 14          1  "
      ]
     },
     "execution_count": 4,
     "metadata": {},
     "output_type": "execute_result"
    }
   ],
   "source": [
    "df=df.drop('Id',axis=1)\n",
    "df.head()"
   ]
  },
  {
   "cell_type": "code",
   "execution_count": 5,
   "id": "071df24c",
   "metadata": {
    "execution": {
     "iopub.execute_input": "2022-08-19T08:46:01.969977Z",
     "iopub.status.busy": "2022-08-19T08:46:01.969314Z",
     "iopub.status.idle": "2022-08-19T08:46:02.050351Z",
     "shell.execute_reply": "2022-08-19T08:46:02.049722Z",
     "shell.execute_reply.started": "2022-08-19T08:44:14.024395Z"
    },
    "papermill": {
     "duration": 0.109683,
     "end_time": "2022-08-19T08:46:02.050504",
     "exception": false,
     "start_time": "2022-08-19T08:46:01.940821",
     "status": "completed"
    },
    "tags": []
   },
   "outputs": [
    {
     "data": {
      "text/plain": [
       "Income               0\n",
       "Age                  0\n",
       "Experience           0\n",
       "Married/Single       0\n",
       "House_Ownership      0\n",
       "Car_Ownership        0\n",
       "Profession           0\n",
       "CITY                 0\n",
       "STATE                0\n",
       "CURRENT_JOB_YRS      0\n",
       "CURRENT_HOUSE_YRS    0\n",
       "Risk_Flag            0\n",
       "dtype: int64"
      ]
     },
     "execution_count": 5,
     "metadata": {},
     "output_type": "execute_result"
    }
   ],
   "source": [
    "df.isnull().sum()"
   ]
  },
  {
   "cell_type": "code",
   "execution_count": 6,
   "id": "f9780c80",
   "metadata": {
    "execution": {
     "iopub.execute_input": "2022-08-19T08:46:02.176407Z",
     "iopub.status.busy": "2022-08-19T08:46:02.175694Z",
     "iopub.status.idle": "2022-08-19T08:46:02.199480Z",
     "shell.execute_reply": "2022-08-19T08:46:02.198976Z",
     "shell.execute_reply.started": "2022-08-19T08:44:14.095083Z"
    },
    "papermill": {
     "duration": 0.124194,
     "end_time": "2022-08-19T08:46:02.199647",
     "exception": false,
     "start_time": "2022-08-19T08:46:02.075453",
     "status": "completed"
    },
    "tags": []
   },
   "outputs": [
    {
     "name": "stdout",
     "output_type": "stream",
     "text": [
      "<class 'pandas.core.frame.DataFrame'>\n",
      "RangeIndex: 252000 entries, 0 to 251999\n",
      "Data columns (total 12 columns):\n",
      " #   Column             Non-Null Count   Dtype \n",
      "---  ------             --------------   ----- \n",
      " 0   Income             252000 non-null  int64 \n",
      " 1   Age                252000 non-null  int64 \n",
      " 2   Experience         252000 non-null  int64 \n",
      " 3   Married/Single     252000 non-null  object\n",
      " 4   House_Ownership    252000 non-null  object\n",
      " 5   Car_Ownership      252000 non-null  object\n",
      " 6   Profession         252000 non-null  object\n",
      " 7   CITY               252000 non-null  object\n",
      " 8   STATE              252000 non-null  object\n",
      " 9   CURRENT_JOB_YRS    252000 non-null  int64 \n",
      " 10  CURRENT_HOUSE_YRS  252000 non-null  int64 \n",
      " 11  Risk_Flag          252000 non-null  int64 \n",
      "dtypes: int64(6), object(6)\n",
      "memory usage: 23.1+ MB\n"
     ]
    }
   ],
   "source": [
    "df.info()"
   ]
  },
  {
   "cell_type": "code",
   "execution_count": 7,
   "id": "b49d4565",
   "metadata": {
    "execution": {
     "iopub.execute_input": "2022-08-19T08:46:02.272102Z",
     "iopub.status.busy": "2022-08-19T08:46:02.253344Z",
     "iopub.status.idle": "2022-08-19T08:46:02.278111Z",
     "shell.execute_reply": "2022-08-19T08:46:02.277555Z",
     "shell.execute_reply.started": "2022-08-19T08:44:14.170384Z"
    },
    "papermill": {
     "duration": 0.05364,
     "end_time": "2022-08-19T08:46:02.278265",
     "exception": false,
     "start_time": "2022-08-19T08:46:02.224625",
     "status": "completed"
    },
    "tags": []
   },
   "outputs": [
    {
     "data": {
      "text/plain": [
       "Physician                     5957\n",
       "Statistician                  5806\n",
       "Web_designer                  5397\n",
       "Psychologist                  5390\n",
       "Computer_hardware_engineer    5372\n",
       "Drafter                       5359\n",
       "Magistrate                    5357\n",
       "Fashion_Designer              5304\n",
       "Air_traffic_controller        5281\n",
       "Comedian                      5259\n",
       "Industrial_Engineer           5250\n",
       "Mechanical_engineer           5217\n",
       "Chemical_engineer             5205\n",
       "Technical_writer              5195\n",
       "Hotel_Manager                 5178\n",
       "Financial_Analyst             5167\n",
       "Graphic_Designer              5166\n",
       "Flight_attendant              5128\n",
       "Biomedical_Engineer           5127\n",
       "Secretary                     5061\n",
       "Software_Developer            5053\n",
       "Petroleum_Engineer            5041\n",
       "Police_officer                5035\n",
       "Computer_operator             4990\n",
       "Politician                    4944\n",
       "Microbiologist                4881\n",
       "Technician                    4864\n",
       "Artist                        4861\n",
       "Lawyer                        4818\n",
       "Consultant                    4808\n",
       "Dentist                       4782\n",
       "Scientist                     4781\n",
       "Surgeon                       4772\n",
       "Aviator                       4758\n",
       "Technology_specialist         4737\n",
       "Design_Engineer               4729\n",
       "Surveyor                      4714\n",
       "Geologist                     4672\n",
       "Analyst                       4668\n",
       "Army_officer                  4661\n",
       "Architect                     4657\n",
       "Chef                          4635\n",
       "Librarian                     4628\n",
       "Civil_engineer                4616\n",
       "Designer                      4598\n",
       "Economist                     4573\n",
       "Firefighter                   4507\n",
       "Chartered_Accountant          4493\n",
       "Civil_servant                 4413\n",
       "Official                      4087\n",
       "Engineer                      4048\n",
       "Name: Profession, dtype: int64"
      ]
     },
     "execution_count": 7,
     "metadata": {},
     "output_type": "execute_result"
    }
   ],
   "source": [
    "df['Profession'].value_counts()"
   ]
  },
  {
   "cell_type": "code",
   "execution_count": 8,
   "id": "7e12d449",
   "metadata": {
    "execution": {
     "iopub.execute_input": "2022-08-19T08:46:02.337550Z",
     "iopub.status.busy": "2022-08-19T08:46:02.334129Z",
     "iopub.status.idle": "2022-08-19T08:46:02.340923Z",
     "shell.execute_reply": "2022-08-19T08:46:02.340265Z",
     "shell.execute_reply.started": "2022-08-19T08:44:14.193243Z"
    },
    "papermill": {
     "duration": 0.037046,
     "end_time": "2022-08-19T08:46:02.341072",
     "exception": false,
     "start_time": "2022-08-19T08:46:02.304026",
     "status": "completed"
    },
    "tags": []
   },
   "outputs": [
    {
     "data": {
      "text/plain": [
       "0                   Rewa\n",
       "1               Parbhani\n",
       "2              Alappuzha\n",
       "3            Bhubaneswar\n",
       "4    Tiruchirappalli[10]\n",
       "Name: CITY, dtype: object"
      ]
     },
     "execution_count": 8,
     "metadata": {},
     "output_type": "execute_result"
    }
   ],
   "source": [
    "df['CITY'].head()"
   ]
  },
  {
   "cell_type": "code",
   "execution_count": 9,
   "id": "dcb93e24",
   "metadata": {
    "execution": {
     "iopub.execute_input": "2022-08-19T08:46:02.410307Z",
     "iopub.status.busy": "2022-08-19T08:46:02.395411Z",
     "iopub.status.idle": "2022-08-19T08:46:02.421993Z",
     "shell.execute_reply": "2022-08-19T08:46:02.422498Z",
     "shell.execute_reply.started": "2022-08-19T08:44:14.206793Z"
    },
    "papermill": {
     "duration": 0.055912,
     "end_time": "2022-08-19T08:46:02.422701",
     "exception": false,
     "start_time": "2022-08-19T08:46:02.366789",
     "status": "completed"
    },
    "tags": []
   },
   "outputs": [
    {
     "data": {
      "text/plain": [
       "array(['Madhya_Pradesh', 'Maharashtra', 'Kerala', 'Odisha', 'Tamil_Nadu',\n",
       "       'Gujarat', 'Rajasthan', 'Telangana', 'Bihar', 'Andhra_Pradesh',\n",
       "       'West_Bengal', 'Haryana', 'Puducherry', 'Karnataka',\n",
       "       'Uttar_Pradesh', 'Himachal_Pradesh', 'Punjab', 'Tripura',\n",
       "       'Uttarakhand', 'Jharkhand', 'Mizoram', 'Assam',\n",
       "       'Jammu_and_Kashmir', 'Delhi', 'Chhattisgarh', 'Chandigarh',\n",
       "       'Uttar_Pradesh[5]', 'Manipur', 'Sikkim'], dtype=object)"
      ]
     },
     "execution_count": 9,
     "metadata": {},
     "output_type": "execute_result"
    }
   ],
   "source": [
    "df['STATE'].unique()"
   ]
  },
  {
   "cell_type": "code",
   "execution_count": 10,
   "id": "e3fff478",
   "metadata": {
    "execution": {
     "iopub.execute_input": "2022-08-19T08:46:02.478045Z",
     "iopub.status.busy": "2022-08-19T08:46:02.477354Z",
     "iopub.status.idle": "2022-08-19T08:46:02.504615Z",
     "shell.execute_reply": "2022-08-19T08:46:02.505121Z",
     "shell.execute_reply.started": "2022-08-19T08:44:14.238354Z"
    },
    "papermill": {
     "duration": 0.056776,
     "end_time": "2022-08-19T08:46:02.505317",
     "exception": false,
     "start_time": "2022-08-19T08:46:02.448541",
     "status": "completed"
    },
    "tags": []
   },
   "outputs": [],
   "source": [
    "df=df.drop('CITY',axis=1)"
   ]
  },
  {
   "cell_type": "markdown",
   "id": "4b991e99",
   "metadata": {
    "papermill": {
     "duration": 0.025557,
     "end_time": "2022-08-19T08:46:02.557102",
     "exception": false,
     "start_time": "2022-08-19T08:46:02.531545",
     "status": "completed"
    },
    "tags": []
   },
   "source": [
    "#### Encoding The Categorical data"
   ]
  },
  {
   "cell_type": "code",
   "execution_count": 11,
   "id": "9d0193fb",
   "metadata": {
    "execution": {
     "iopub.execute_input": "2022-08-19T08:46:02.611668Z",
     "iopub.status.busy": "2022-08-19T08:46:02.610999Z",
     "iopub.status.idle": "2022-08-19T08:46:02.891741Z",
     "shell.execute_reply": "2022-08-19T08:46:02.892290Z",
     "shell.execute_reply.started": "2022-08-19T08:44:14.257649Z"
    },
    "papermill": {
     "duration": 0.309609,
     "end_time": "2022-08-19T08:46:02.892469",
     "exception": false,
     "start_time": "2022-08-19T08:46:02.582860",
     "status": "completed"
    },
    "tags": []
   },
   "outputs": [],
   "source": [
    "en = LabelEncoder()\n",
    "catCols = ['Married/Single','House_Ownership','Car_Ownership','Profession','STATE']\n",
    "for cols in catCols:\n",
    "    df[cols] = en.fit_transform(df[cols])"
   ]
  },
  {
   "cell_type": "code",
   "execution_count": 12,
   "id": "1ec361f0",
   "metadata": {
    "execution": {
     "iopub.execute_input": "2022-08-19T08:46:02.948955Z",
     "iopub.status.busy": "2022-08-19T08:46:02.948178Z",
     "iopub.status.idle": "2022-08-19T08:46:02.958870Z",
     "shell.execute_reply": "2022-08-19T08:46:02.959316Z",
     "shell.execute_reply.started": "2022-08-19T08:44:14.496826Z"
    },
    "papermill": {
     "duration": 0.039801,
     "end_time": "2022-08-19T08:46:02.959502",
     "exception": false,
     "start_time": "2022-08-19T08:46:02.919701",
     "status": "completed"
    },
    "tags": []
   },
   "outputs": [
    {
     "data": {
      "text/html": [
       "<div>\n",
       "<style scoped>\n",
       "    .dataframe tbody tr th:only-of-type {\n",
       "        vertical-align: middle;\n",
       "    }\n",
       "\n",
       "    .dataframe tbody tr th {\n",
       "        vertical-align: top;\n",
       "    }\n",
       "\n",
       "    .dataframe thead th {\n",
       "        text-align: right;\n",
       "    }\n",
       "</style>\n",
       "<table border=\"1\" class=\"dataframe\">\n",
       "  <thead>\n",
       "    <tr style=\"text-align: right;\">\n",
       "      <th></th>\n",
       "      <th>Income</th>\n",
       "      <th>Age</th>\n",
       "      <th>Experience</th>\n",
       "      <th>Married/Single</th>\n",
       "      <th>House_Ownership</th>\n",
       "      <th>Car_Ownership</th>\n",
       "      <th>Profession</th>\n",
       "      <th>STATE</th>\n",
       "      <th>CURRENT_JOB_YRS</th>\n",
       "      <th>CURRENT_HOUSE_YRS</th>\n",
       "      <th>Risk_Flag</th>\n",
       "    </tr>\n",
       "  </thead>\n",
       "  <tbody>\n",
       "    <tr>\n",
       "      <th>0</th>\n",
       "      <td>1303834</td>\n",
       "      <td>23</td>\n",
       "      <td>3</td>\n",
       "      <td>1</td>\n",
       "      <td>2</td>\n",
       "      <td>0</td>\n",
       "      <td>33</td>\n",
       "      <td>13</td>\n",
       "      <td>3</td>\n",
       "      <td>13</td>\n",
       "      <td>0</td>\n",
       "    </tr>\n",
       "    <tr>\n",
       "      <th>1</th>\n",
       "      <td>7574516</td>\n",
       "      <td>40</td>\n",
       "      <td>10</td>\n",
       "      <td>1</td>\n",
       "      <td>2</td>\n",
       "      <td>0</td>\n",
       "      <td>43</td>\n",
       "      <td>14</td>\n",
       "      <td>9</td>\n",
       "      <td>13</td>\n",
       "      <td>0</td>\n",
       "    </tr>\n",
       "    <tr>\n",
       "      <th>2</th>\n",
       "      <td>3991815</td>\n",
       "      <td>66</td>\n",
       "      <td>4</td>\n",
       "      <td>0</td>\n",
       "      <td>2</td>\n",
       "      <td>0</td>\n",
       "      <td>47</td>\n",
       "      <td>12</td>\n",
       "      <td>4</td>\n",
       "      <td>10</td>\n",
       "      <td>0</td>\n",
       "    </tr>\n",
       "    <tr>\n",
       "      <th>3</th>\n",
       "      <td>6256451</td>\n",
       "      <td>41</td>\n",
       "      <td>2</td>\n",
       "      <td>1</td>\n",
       "      <td>2</td>\n",
       "      <td>1</td>\n",
       "      <td>43</td>\n",
       "      <td>17</td>\n",
       "      <td>2</td>\n",
       "      <td>12</td>\n",
       "      <td>1</td>\n",
       "    </tr>\n",
       "    <tr>\n",
       "      <th>4</th>\n",
       "      <td>5768871</td>\n",
       "      <td>47</td>\n",
       "      <td>11</td>\n",
       "      <td>1</td>\n",
       "      <td>2</td>\n",
       "      <td>0</td>\n",
       "      <td>11</td>\n",
       "      <td>22</td>\n",
       "      <td>3</td>\n",
       "      <td>14</td>\n",
       "      <td>1</td>\n",
       "    </tr>\n",
       "  </tbody>\n",
       "</table>\n",
       "</div>"
      ],
      "text/plain": [
       "    Income  Age  Experience  Married/Single  House_Ownership  Car_Ownership  \\\n",
       "0  1303834   23           3               1                2              0   \n",
       "1  7574516   40          10               1                2              0   \n",
       "2  3991815   66           4               0                2              0   \n",
       "3  6256451   41           2               1                2              1   \n",
       "4  5768871   47          11               1                2              0   \n",
       "\n",
       "   Profession  STATE  CURRENT_JOB_YRS  CURRENT_HOUSE_YRS  Risk_Flag  \n",
       "0          33     13                3                 13          0  \n",
       "1          43     14                9                 13          0  \n",
       "2          47     12                4                 10          0  \n",
       "3          43     17                2                 12          1  \n",
       "4          11     22                3                 14          1  "
      ]
     },
     "execution_count": 12,
     "metadata": {},
     "output_type": "execute_result"
    }
   ],
   "source": [
    "df.head()"
   ]
  },
  {
   "cell_type": "code",
   "execution_count": 13,
   "id": "7114c5a1",
   "metadata": {
    "execution": {
     "iopub.execute_input": "2022-08-19T08:46:03.015791Z",
     "iopub.status.busy": "2022-08-19T08:46:03.015129Z",
     "iopub.status.idle": "2022-08-19T08:46:03.031502Z",
     "shell.execute_reply": "2022-08-19T08:46:03.032002Z",
     "shell.execute_reply.started": "2022-08-19T08:44:14.509093Z"
    },
    "papermill": {
     "duration": 0.04625,
     "end_time": "2022-08-19T08:46:03.032192",
     "exception": false,
     "start_time": "2022-08-19T08:46:02.985942",
     "status": "completed"
    },
    "tags": []
   },
   "outputs": [
    {
     "name": "stdout",
     "output_type": "stream",
     "text": [
      "<class 'pandas.core.frame.DataFrame'>\n",
      "RangeIndex: 252000 entries, 0 to 251999\n",
      "Data columns (total 11 columns):\n",
      " #   Column             Non-Null Count   Dtype\n",
      "---  ------             --------------   -----\n",
      " 0   Income             252000 non-null  int64\n",
      " 1   Age                252000 non-null  int64\n",
      " 2   Experience         252000 non-null  int64\n",
      " 3   Married/Single     252000 non-null  int64\n",
      " 4   House_Ownership    252000 non-null  int64\n",
      " 5   Car_Ownership      252000 non-null  int64\n",
      " 6   Profession         252000 non-null  int64\n",
      " 7   STATE              252000 non-null  int64\n",
      " 8   CURRENT_JOB_YRS    252000 non-null  int64\n",
      " 9   CURRENT_HOUSE_YRS  252000 non-null  int64\n",
      " 10  Risk_Flag          252000 non-null  int64\n",
      "dtypes: int64(11)\n",
      "memory usage: 21.1 MB\n"
     ]
    }
   ],
   "source": [
    "df.info()"
   ]
  },
  {
   "cell_type": "markdown",
   "id": "1f9606f5",
   "metadata": {
    "papermill": {
     "duration": 0.026245,
     "end_time": "2022-08-19T08:46:03.085397",
     "exception": false,
     "start_time": "2022-08-19T08:46:03.059152",
     "status": "completed"
    },
    "tags": []
   },
   "source": [
    "### Splitting The Data"
   ]
  },
  {
   "cell_type": "code",
   "execution_count": 14,
   "id": "acf08087",
   "metadata": {
    "execution": {
     "iopub.execute_input": "2022-08-19T08:46:03.141758Z",
     "iopub.status.busy": "2022-08-19T08:46:03.141073Z",
     "iopub.status.idle": "2022-08-19T08:46:03.172981Z",
     "shell.execute_reply": "2022-08-19T08:46:03.173523Z",
     "shell.execute_reply.started": "2022-08-19T08:44:14.529720Z"
    },
    "papermill": {
     "duration": 0.061754,
     "end_time": "2022-08-19T08:46:03.173720",
     "exception": false,
     "start_time": "2022-08-19T08:46:03.111966",
     "status": "completed"
    },
    "tags": []
   },
   "outputs": [],
   "source": [
    "Y = df[\"Risk_Flag\"]\n",
    "X = df.drop(\"Risk_Flag\",axis = 1)"
   ]
  },
  {
   "cell_type": "code",
   "execution_count": 15,
   "id": "e1e58244",
   "metadata": {
    "execution": {
     "iopub.execute_input": "2022-08-19T08:46:03.231106Z",
     "iopub.status.busy": "2022-08-19T08:46:03.230419Z",
     "iopub.status.idle": "2022-08-19T08:46:03.240602Z",
     "shell.execute_reply": "2022-08-19T08:46:03.241165Z",
     "shell.execute_reply.started": "2022-08-19T08:44:14.549455Z"
    },
    "papermill": {
     "duration": 0.040319,
     "end_time": "2022-08-19T08:46:03.241334",
     "exception": false,
     "start_time": "2022-08-19T08:46:03.201015",
     "status": "completed"
    },
    "tags": []
   },
   "outputs": [
    {
     "data": {
      "text/html": [
       "<div>\n",
       "<style scoped>\n",
       "    .dataframe tbody tr th:only-of-type {\n",
       "        vertical-align: middle;\n",
       "    }\n",
       "\n",
       "    .dataframe tbody tr th {\n",
       "        vertical-align: top;\n",
       "    }\n",
       "\n",
       "    .dataframe thead th {\n",
       "        text-align: right;\n",
       "    }\n",
       "</style>\n",
       "<table border=\"1\" class=\"dataframe\">\n",
       "  <thead>\n",
       "    <tr style=\"text-align: right;\">\n",
       "      <th></th>\n",
       "      <th>Income</th>\n",
       "      <th>Age</th>\n",
       "      <th>Experience</th>\n",
       "      <th>Married/Single</th>\n",
       "      <th>House_Ownership</th>\n",
       "      <th>Car_Ownership</th>\n",
       "      <th>Profession</th>\n",
       "      <th>STATE</th>\n",
       "      <th>CURRENT_JOB_YRS</th>\n",
       "      <th>CURRENT_HOUSE_YRS</th>\n",
       "    </tr>\n",
       "  </thead>\n",
       "  <tbody>\n",
       "    <tr>\n",
       "      <th>0</th>\n",
       "      <td>1303834</td>\n",
       "      <td>23</td>\n",
       "      <td>3</td>\n",
       "      <td>1</td>\n",
       "      <td>2</td>\n",
       "      <td>0</td>\n",
       "      <td>33</td>\n",
       "      <td>13</td>\n",
       "      <td>3</td>\n",
       "      <td>13</td>\n",
       "    </tr>\n",
       "    <tr>\n",
       "      <th>1</th>\n",
       "      <td>7574516</td>\n",
       "      <td>40</td>\n",
       "      <td>10</td>\n",
       "      <td>1</td>\n",
       "      <td>2</td>\n",
       "      <td>0</td>\n",
       "      <td>43</td>\n",
       "      <td>14</td>\n",
       "      <td>9</td>\n",
       "      <td>13</td>\n",
       "    </tr>\n",
       "    <tr>\n",
       "      <th>2</th>\n",
       "      <td>3991815</td>\n",
       "      <td>66</td>\n",
       "      <td>4</td>\n",
       "      <td>0</td>\n",
       "      <td>2</td>\n",
       "      <td>0</td>\n",
       "      <td>47</td>\n",
       "      <td>12</td>\n",
       "      <td>4</td>\n",
       "      <td>10</td>\n",
       "    </tr>\n",
       "    <tr>\n",
       "      <th>3</th>\n",
       "      <td>6256451</td>\n",
       "      <td>41</td>\n",
       "      <td>2</td>\n",
       "      <td>1</td>\n",
       "      <td>2</td>\n",
       "      <td>1</td>\n",
       "      <td>43</td>\n",
       "      <td>17</td>\n",
       "      <td>2</td>\n",
       "      <td>12</td>\n",
       "    </tr>\n",
       "    <tr>\n",
       "      <th>4</th>\n",
       "      <td>5768871</td>\n",
       "      <td>47</td>\n",
       "      <td>11</td>\n",
       "      <td>1</td>\n",
       "      <td>2</td>\n",
       "      <td>0</td>\n",
       "      <td>11</td>\n",
       "      <td>22</td>\n",
       "      <td>3</td>\n",
       "      <td>14</td>\n",
       "    </tr>\n",
       "  </tbody>\n",
       "</table>\n",
       "</div>"
      ],
      "text/plain": [
       "    Income  Age  Experience  Married/Single  House_Ownership  Car_Ownership  \\\n",
       "0  1303834   23           3               1                2              0   \n",
       "1  7574516   40          10               1                2              0   \n",
       "2  3991815   66           4               0                2              0   \n",
       "3  6256451   41           2               1                2              1   \n",
       "4  5768871   47          11               1                2              0   \n",
       "\n",
       "   Profession  STATE  CURRENT_JOB_YRS  CURRENT_HOUSE_YRS  \n",
       "0          33     13                3                 13  \n",
       "1          43     14                9                 13  \n",
       "2          47     12                4                 10  \n",
       "3          43     17                2                 12  \n",
       "4          11     22                3                 14  "
      ]
     },
     "execution_count": 15,
     "metadata": {},
     "output_type": "execute_result"
    }
   ],
   "source": [
    "X.head()"
   ]
  },
  {
   "cell_type": "code",
   "execution_count": 16,
   "id": "7de60b20",
   "metadata": {
    "execution": {
     "iopub.execute_input": "2022-08-19T08:46:03.300087Z",
     "iopub.status.busy": "2022-08-19T08:46:03.299374Z",
     "iopub.status.idle": "2022-08-19T08:46:03.305650Z",
     "shell.execute_reply": "2022-08-19T08:46:03.306283Z",
     "shell.execute_reply.started": "2022-08-19T08:44:14.560768Z"
    },
    "papermill": {
     "duration": 0.037646,
     "end_time": "2022-08-19T08:46:03.306463",
     "exception": false,
     "start_time": "2022-08-19T08:46:03.268817",
     "status": "completed"
    },
    "tags": []
   },
   "outputs": [
    {
     "data": {
      "text/plain": [
       "0    0\n",
       "1    0\n",
       "2    0\n",
       "3    1\n",
       "4    1\n",
       "Name: Risk_Flag, dtype: int64"
      ]
     },
     "execution_count": 16,
     "metadata": {},
     "output_type": "execute_result"
    }
   ],
   "source": [
    "Y.head()"
   ]
  },
  {
   "cell_type": "code",
   "execution_count": 17,
   "id": "d5a40509",
   "metadata": {
    "execution": {
     "iopub.execute_input": "2022-08-19T08:46:03.368597Z",
     "iopub.status.busy": "2022-08-19T08:46:03.367617Z",
     "iopub.status.idle": "2022-08-19T08:46:03.372547Z",
     "shell.execute_reply": "2022-08-19T08:46:03.373172Z",
     "shell.execute_reply.started": "2022-08-19T08:44:14.571358Z"
    },
    "papermill": {
     "duration": 0.037313,
     "end_time": "2022-08-19T08:46:03.373351",
     "exception": false,
     "start_time": "2022-08-19T08:46:03.336038",
     "status": "completed"
    },
    "tags": []
   },
   "outputs": [],
   "source": [
    "Y=pd.DataFrame(Y)"
   ]
  },
  {
   "cell_type": "code",
   "execution_count": 18,
   "id": "38669899",
   "metadata": {
    "execution": {
     "iopub.execute_input": "2022-08-19T08:46:03.438563Z",
     "iopub.status.busy": "2022-08-19T08:46:03.437774Z",
     "iopub.status.idle": "2022-08-19T08:46:03.441234Z",
     "shell.execute_reply": "2022-08-19T08:46:03.441761Z",
     "shell.execute_reply.started": "2022-08-19T08:44:14.581220Z"
    },
    "papermill": {
     "duration": 0.040624,
     "end_time": "2022-08-19T08:46:03.441937",
     "exception": false,
     "start_time": "2022-08-19T08:46:03.401313",
     "status": "completed"
    },
    "tags": []
   },
   "outputs": [
    {
     "data": {
      "text/html": [
       "<div>\n",
       "<style scoped>\n",
       "    .dataframe tbody tr th:only-of-type {\n",
       "        vertical-align: middle;\n",
       "    }\n",
       "\n",
       "    .dataframe tbody tr th {\n",
       "        vertical-align: top;\n",
       "    }\n",
       "\n",
       "    .dataframe thead th {\n",
       "        text-align: right;\n",
       "    }\n",
       "</style>\n",
       "<table border=\"1\" class=\"dataframe\">\n",
       "  <thead>\n",
       "    <tr style=\"text-align: right;\">\n",
       "      <th></th>\n",
       "      <th>Risk_Flag</th>\n",
       "    </tr>\n",
       "  </thead>\n",
       "  <tbody>\n",
       "    <tr>\n",
       "      <th>0</th>\n",
       "      <td>0</td>\n",
       "    </tr>\n",
       "    <tr>\n",
       "      <th>1</th>\n",
       "      <td>0</td>\n",
       "    </tr>\n",
       "    <tr>\n",
       "      <th>2</th>\n",
       "      <td>0</td>\n",
       "    </tr>\n",
       "    <tr>\n",
       "      <th>3</th>\n",
       "      <td>1</td>\n",
       "    </tr>\n",
       "    <tr>\n",
       "      <th>4</th>\n",
       "      <td>1</td>\n",
       "    </tr>\n",
       "  </tbody>\n",
       "</table>\n",
       "</div>"
      ],
      "text/plain": [
       "   Risk_Flag\n",
       "0          0\n",
       "1          0\n",
       "2          0\n",
       "3          1\n",
       "4          1"
      ]
     },
     "execution_count": 18,
     "metadata": {},
     "output_type": "execute_result"
    }
   ],
   "source": [
    "Y.head()"
   ]
  },
  {
   "cell_type": "code",
   "execution_count": 19,
   "id": "68827bd0",
   "metadata": {
    "execution": {
     "iopub.execute_input": "2022-08-19T08:46:03.501672Z",
     "iopub.status.busy": "2022-08-19T08:46:03.500714Z",
     "iopub.status.idle": "2022-08-19T08:46:03.506303Z",
     "shell.execute_reply": "2022-08-19T08:46:03.506862Z",
     "shell.execute_reply.started": "2022-08-19T08:44:14.596384Z"
    },
    "papermill": {
     "duration": 0.037306,
     "end_time": "2022-08-19T08:46:03.507039",
     "exception": false,
     "start_time": "2022-08-19T08:46:03.469733",
     "status": "completed"
    },
    "tags": []
   },
   "outputs": [
    {
     "data": {
      "text/plain": [
       "(252000, 10)"
      ]
     },
     "execution_count": 19,
     "metadata": {},
     "output_type": "execute_result"
    }
   ],
   "source": [
    "X.shape"
   ]
  },
  {
   "cell_type": "code",
   "execution_count": 20,
   "id": "5194fec1",
   "metadata": {
    "execution": {
     "iopub.execute_input": "2022-08-19T08:46:03.569962Z",
     "iopub.status.busy": "2022-08-19T08:46:03.569095Z",
     "iopub.status.idle": "2022-08-19T08:46:03.572377Z",
     "shell.execute_reply": "2022-08-19T08:46:03.572885Z",
     "shell.execute_reply.started": "2022-08-19T08:44:14.608463Z"
    },
    "papermill": {
     "duration": 0.03729,
     "end_time": "2022-08-19T08:46:03.573063",
     "exception": false,
     "start_time": "2022-08-19T08:46:03.535773",
     "status": "completed"
    },
    "tags": []
   },
   "outputs": [
    {
     "data": {
      "text/plain": [
       "(252000, 1)"
      ]
     },
     "execution_count": 20,
     "metadata": {},
     "output_type": "execute_result"
    }
   ],
   "source": [
    "Y.shape"
   ]
  },
  {
   "cell_type": "markdown",
   "id": "43e4e14d",
   "metadata": {
    "papermill": {
     "duration": 0.028428,
     "end_time": "2022-08-19T08:46:03.630102",
     "exception": false,
     "start_time": "2022-08-19T08:46:03.601674",
     "status": "completed"
    },
    "tags": []
   },
   "source": [
    "### Splitting Data as Test Validation "
   ]
  },
  {
   "cell_type": "code",
   "execution_count": 21,
   "id": "857994b2",
   "metadata": {
    "execution": {
     "iopub.execute_input": "2022-08-19T08:46:03.694506Z",
     "iopub.status.busy": "2022-08-19T08:46:03.693664Z",
     "iopub.status.idle": "2022-08-19T08:46:03.740569Z",
     "shell.execute_reply": "2022-08-19T08:46:03.741121Z",
     "shell.execute_reply.started": "2022-08-19T08:44:14.621878Z"
    },
    "papermill": {
     "duration": 0.082894,
     "end_time": "2022-08-19T08:46:03.741453",
     "exception": false,
     "start_time": "2022-08-19T08:46:03.658559",
     "status": "completed"
    },
    "tags": []
   },
   "outputs": [],
   "source": [
    "X_train,X_test,Y_train,Y_test=train_test_split(X,Y,train_size=0.8,test_size=0.2,random_state=0)"
   ]
  },
  {
   "cell_type": "code",
   "execution_count": 22,
   "id": "c96ef5ec",
   "metadata": {
    "execution": {
     "iopub.execute_input": "2022-08-19T08:46:03.804186Z",
     "iopub.status.busy": "2022-08-19T08:46:03.803234Z",
     "iopub.status.idle": "2022-08-19T08:46:03.811190Z",
     "shell.execute_reply": "2022-08-19T08:46:03.811713Z",
     "shell.execute_reply.started": "2022-08-19T08:44:14.665376Z"
    },
    "papermill": {
     "duration": 0.041,
     "end_time": "2022-08-19T08:46:03.811891",
     "exception": false,
     "start_time": "2022-08-19T08:46:03.770891",
     "status": "completed"
    },
    "tags": []
   },
   "outputs": [
    {
     "data": {
      "text/html": [
       "<div>\n",
       "<style scoped>\n",
       "    .dataframe tbody tr th:only-of-type {\n",
       "        vertical-align: middle;\n",
       "    }\n",
       "\n",
       "    .dataframe tbody tr th {\n",
       "        vertical-align: top;\n",
       "    }\n",
       "\n",
       "    .dataframe thead th {\n",
       "        text-align: right;\n",
       "    }\n",
       "</style>\n",
       "<table border=\"1\" class=\"dataframe\">\n",
       "  <thead>\n",
       "    <tr style=\"text-align: right;\">\n",
       "      <th></th>\n",
       "      <th>Risk_Flag</th>\n",
       "    </tr>\n",
       "  </thead>\n",
       "  <tbody>\n",
       "    <tr>\n",
       "      <th>223480</th>\n",
       "      <td>0</td>\n",
       "    </tr>\n",
       "    <tr>\n",
       "      <th>177039</th>\n",
       "      <td>1</td>\n",
       "    </tr>\n",
       "    <tr>\n",
       "      <th>85476</th>\n",
       "      <td>0</td>\n",
       "    </tr>\n",
       "    <tr>\n",
       "      <th>243408</th>\n",
       "      <td>0</td>\n",
       "    </tr>\n",
       "    <tr>\n",
       "      <th>116275</th>\n",
       "      <td>0</td>\n",
       "    </tr>\n",
       "  </tbody>\n",
       "</table>\n",
       "</div>"
      ],
      "text/plain": [
       "        Risk_Flag\n",
       "223480          0\n",
       "177039          1\n",
       "85476           0\n",
       "243408          0\n",
       "116275          0"
      ]
     },
     "execution_count": 22,
     "metadata": {},
     "output_type": "execute_result"
    }
   ],
   "source": [
    "Y_train.head()"
   ]
  },
  {
   "cell_type": "markdown",
   "id": "267dce97",
   "metadata": {
    "papermill": {
     "duration": 0.028369,
     "end_time": "2022-08-19T08:46:03.869466",
     "exception": false,
     "start_time": "2022-08-19T08:46:03.841097",
     "status": "completed"
    },
    "tags": []
   },
   "source": [
    "### XGB Classifier"
   ]
  },
  {
   "cell_type": "code",
   "execution_count": 23,
   "id": "09a566f5",
   "metadata": {
    "execution": {
     "iopub.execute_input": "2022-08-19T08:46:03.931426Z",
     "iopub.status.busy": "2022-08-19T08:46:03.930389Z",
     "iopub.status.idle": "2022-08-19T08:47:23.702688Z",
     "shell.execute_reply": "2022-08-19T08:47:23.703213Z",
     "shell.execute_reply.started": "2022-08-19T08:44:14.674805Z"
    },
    "papermill": {
     "duration": 79.805265,
     "end_time": "2022-08-19T08:47:23.703400",
     "exception": false,
     "start_time": "2022-08-19T08:46:03.898135",
     "status": "completed"
    },
    "tags": []
   },
   "outputs": [
    {
     "name": "stdout",
     "output_type": "stream",
     "text": [
      "Accuracy_score: 0.8971428571428571\n"
     ]
    }
   ],
   "source": [
    "from xgboost import XGBClassifier\n",
    "from sklearn.model_selection import cross_val_score\n",
    "from sklearn.metrics import confusion_matrix,precision_score,recall_score,f1_score,accuracy_score,roc_auc_score\n",
    "\n",
    "clf=XGBClassifier(learning_rate=0.1,\n",
    "                 n_estimators=1000,\n",
    "                 use_label_encoder=False,\n",
    "                random_state=42)\n",
    "clf.fit(X_train,Y_train,eval_metric='logloss')\n",
    "y_predict=clf.predict(X_test)\n",
    "\n",
    "print(\"Accuracy_score:\",str(accuracy_score(Y_test,y_predict)))\n",
    "\n"
   ]
  },
  {
   "cell_type": "code",
   "execution_count": 24,
   "id": "3fd41a35",
   "metadata": {
    "execution": {
     "iopub.execute_input": "2022-08-19T08:47:23.768685Z",
     "iopub.status.busy": "2022-08-19T08:47:23.768019Z",
     "iopub.status.idle": "2022-08-19T08:47:23.814501Z",
     "shell.execute_reply": "2022-08-19T08:47:23.815061Z",
     "shell.execute_reply.started": "2022-08-19T08:45:17.131338Z"
    },
    "papermill": {
     "duration": 0.081833,
     "end_time": "2022-08-19T08:47:23.815235",
     "exception": false,
     "start_time": "2022-08-19T08:47:23.733402",
     "status": "completed"
    },
    "tags": []
   },
   "outputs": [
    {
     "name": "stdout",
     "output_type": "stream",
     "text": [
      "F1 Score:0.4862239841427156\n",
      "Recall Score:0.39944634424360853\n",
      "ROC AUC Score : 0.6828226547129156\n"
     ]
    }
   ],
   "source": [
    "print(\"F1 Score:\"+str(f1_score(Y_test,y_predict)))\n",
    "print(\"Recall Score:\"+str(recall_score(Y_test,y_predict)))\n",
    "print(\"ROC AUC Score : \"+str(roc_auc_score(Y_test,y_predict)))"
   ]
  },
  {
   "cell_type": "markdown",
   "id": "2b7f7e12",
   "metadata": {
    "papermill": {
     "duration": 0.028863,
     "end_time": "2022-08-19T08:47:23.874767",
     "exception": false,
     "start_time": "2022-08-19T08:47:23.845904",
     "status": "completed"
    },
    "tags": []
   },
   "source": [
    "### Decision Tree Classifier"
   ]
  },
  {
   "cell_type": "code",
   "execution_count": 25,
   "id": "5f395c46",
   "metadata": {
    "execution": {
     "iopub.execute_input": "2022-08-19T08:47:23.937904Z",
     "iopub.status.busy": "2022-08-19T08:47:23.937187Z",
     "iopub.status.idle": "2022-08-19T08:47:25.643352Z",
     "shell.execute_reply": "2022-08-19T08:47:25.642781Z",
     "shell.execute_reply.started": "2022-08-19T08:45:17.177683Z"
    },
    "papermill": {
     "duration": 1.739242,
     "end_time": "2022-08-19T08:47:25.643495",
     "exception": false,
     "start_time": "2022-08-19T08:47:23.904253",
     "status": "completed"
    },
    "tags": []
   },
   "outputs": [
    {
     "name": "stderr",
     "output_type": "stream",
     "text": [
      "/opt/conda/lib/python3.7/site-packages/sklearn/utils/deprecation.py:143: FutureWarning: The sklearn.tree.tree module is  deprecated in version 0.22 and will be removed in version 0.24. The corresponding classes / functions should instead be imported from sklearn.tree. Anything that cannot be imported from sklearn.tree is now part of the private API.\n",
      "  warnings.warn(message, FutureWarning)\n"
     ]
    },
    {
     "name": "stdout",
     "output_type": "stream",
     "text": [
      "accuracy_score: 0.8822619047619048\n"
     ]
    }
   ],
   "source": [
    "from sklearn.tree import tree\n",
    "dtc = tree.DecisionTreeClassifier()\n",
    "dtc.fit(X_train, Y_train)\n",
    "predsdtc = dtc.predict(X_test)\n",
    "print(\"accuracy_score: \" + str(accuracy_score(Y_test, predsdtc)))"
   ]
  },
  {
   "cell_type": "code",
   "execution_count": 26,
   "id": "9d2a2603",
   "metadata": {
    "execution": {
     "iopub.execute_input": "2022-08-19T08:47:25.708476Z",
     "iopub.status.busy": "2022-08-19T08:47:25.707813Z",
     "iopub.status.idle": "2022-08-19T08:47:25.727220Z",
     "shell.execute_reply": "2022-08-19T08:47:25.727705Z",
     "shell.execute_reply.started": "2022-08-19T08:45:18.677456Z"
    },
    "papermill": {
     "duration": 0.054146,
     "end_time": "2022-08-19T08:47:25.727894",
     "exception": false,
     "start_time": "2022-08-19T08:47:25.673748",
     "status": "completed"
    },
    "tags": []
   },
   "outputs": [
    {
     "name": "stdout",
     "output_type": "stream",
     "text": [
      "F1 score:0.537706450607666\n"
     ]
    }
   ],
   "source": [
    "print(\"F1 score:\"+str(f1_score(Y_test,predsdtc)))"
   ]
  },
  {
   "cell_type": "code",
   "execution_count": 27,
   "id": "208891c0",
   "metadata": {
    "execution": {
     "iopub.execute_input": "2022-08-19T08:47:25.793180Z",
     "iopub.status.busy": "2022-08-19T08:47:25.792465Z",
     "iopub.status.idle": "2022-08-19T08:47:25.807451Z",
     "shell.execute_reply": "2022-08-19T08:47:25.806907Z",
     "shell.execute_reply.started": "2022-08-19T08:45:18.699140Z"
    },
    "papermill": {
     "duration": 0.049296,
     "end_time": "2022-08-19T08:47:25.807590",
     "exception": false,
     "start_time": "2022-08-19T08:47:25.758294",
     "status": "completed"
    },
    "tags": []
   },
   "outputs": [
    {
     "name": "stdout",
     "output_type": "stream",
     "text": [
      "ROC AUC SCORE0.74433238294993\n"
     ]
    }
   ],
   "source": [
    "print(\"ROC AUC SCORE\"+str(roc_auc_score(Y_test,predsdtc)))"
   ]
  }
 ],
 "metadata": {
  "kernelspec": {
   "display_name": "Python 3",
   "language": "python",
   "name": "python3"
  },
  "language_info": {
   "codemirror_mode": {
    "name": "ipython",
    "version": 3
   },
   "file_extension": ".py",
   "mimetype": "text/x-python",
   "name": "python",
   "nbconvert_exporter": "python",
   "pygments_lexer": "ipython3",
   "version": "3.7.10"
  },
  "papermill": {
   "default_parameters": {},
   "duration": 96.563284,
   "end_time": "2022-08-19T08:47:26.553439",
   "environment_variables": {},
   "exception": null,
   "input_path": "__notebook__.ipynb",
   "output_path": "__notebook__.ipynb",
   "parameters": {},
   "start_time": "2022-08-19T08:45:49.990155",
   "version": "2.3.3"
  }
 },
 "nbformat": 4,
 "nbformat_minor": 5
}
